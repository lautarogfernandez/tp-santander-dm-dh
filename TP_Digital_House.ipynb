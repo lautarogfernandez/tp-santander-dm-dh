{
  "cells": [
    {
      "cell_type": "markdown",
      "metadata": {
        "id": "2KrE6gWbM7UN"
      },
      "source": [
        "# TP Curso Data Science Santander\n",
        "\n",
        "Grupo N°5:\n",
        "\n",
        "*   Cerezo, Yenny\n",
        "*   Di Gaeta, Nicolás\n",
        "*   Fernández, Lautaro\n",
        "*   Jiménez, Jessica\n",
        "*   Martin, Christian\n",
        "*   Sueldo, Braian"
      ]
    },
    {
      "cell_type": "markdown",
      "metadata": {
        "id": "r2IAXqyj52nI"
      },
      "source": [
        "## Cargamos el entorno de trabajo"
      ]
    },
    {
      "cell_type": "markdown",
      "metadata": {
        "id": "uWcw1Me1KlGD"
      },
      "source": [
        "Cargamos bibliotecas a usar"
      ]
    },
    {
      "cell_type": "code",
      "execution_count": null,
      "metadata": {
        "id": "m7l7zJX45e6V"
      },
      "outputs": [],
      "source": [
        "import numpy as np\n",
        "import pandas as pd\n",
        "import matplotlib.pyplot as plt\n",
        "import seaborn as sns\n",
        "from sklearn.model_selection import train_test_split\n",
        "import statsmodels.api as sm\n",
        "from sklearn.linear_model import LinearRegression\n",
        "from sklearn.metrics import r2_score, mean_squared_error, mean_absolute_error\n",
        "import math"
      ]
    },
    {
      "cell_type": "markdown",
      "metadata": {
        "id": "FVoSm9Lfc9lo"
      },
      "source": [
        "Clonamos el repositorio donde están los datos"
      ]
    },
    {
      "cell_type": "code",
      "execution_count": null,
      "metadata": {
        "colab": {
          "base_uri": "https://localhost:8080/"
        },
        "id": "Cvy8UsYoZ72x",
        "outputId": "c4bc597e-7727-4377-c141-4edc7074cf76"
      },
      "outputs": [
        {
          "output_type": "stream",
          "name": "stdout",
          "text": [
            "/content\n",
            "fatal: destination path 'repositorio' already exists and is not an empty directory.\n",
            "/content/repositorio\n",
            "properatti.7z  properatti.csv  README.md\n"
          ]
        }
      ],
      "source": [
        "%cd /content\n",
        "!git clone -l -s https://github.com/lautarogfernandez/tp-santander-dm-dh.git repositorio\n",
        "%cd repositorio/\n",
        "!ls"
      ]
    },
    {
      "cell_type": "markdown",
      "metadata": {
        "id": "DE47WHa2dAo4"
      },
      "source": [
        "Descomprimimos los datos"
      ]
    },
    {
      "cell_type": "code",
      "execution_count": null,
      "metadata": {
        "colab": {
          "base_uri": "https://localhost:8080/"
        },
        "id": "3G49rMD5ciiN",
        "outputId": "e84f53ca-61d7-4e62-8e5a-52b708d5097f"
      },
      "outputs": [
        {
          "output_type": "stream",
          "name": "stdout",
          "text": [
            "\n",
            "7-Zip [64] 16.02 : Copyright (c) 1999-2016 Igor Pavlov : 2016-05-21\n",
            "p7zip Version 16.02 (locale=en_US.UTF-8,Utf16=on,HugeFiles=on,64 bits,2 CPUs Intel(R) Xeon(R) CPU @ 2.20GHz (406F0),ASM,AES-NI)\n",
            "\n",
            "Scanning the drive for archives:\n",
            "  0M Scan ./\b\b\b\b\b\b\b\b\b\b\b\b            \b\b\b\b\b\b\b\b\b\b\b\b1 file, 22745106 bytes (22 MiB)\n",
            "\n",
            "Extracting archive: ./properatti.7z\n",
            "--\n",
            "Path = ./properatti.7z\n",
            "Type = 7z\n",
            "Physical Size = 22745106\n",
            "Headers Size = 138\n",
            "Method = LZMA2:24\n",
            "Solid = -\n",
            "Blocks = 1\n",
            "\n",
            "  0%\b\b\b\b    \b\b\b\b\n",
            "Would you like to replace the existing file:\n",
            "  Path:     ./properatti.csv\n",
            "  Size:     149311692 bytes (143 MiB)\n",
            "  Modified: 2021-11-30 13:17:18\n",
            "with the file from archive:\n",
            "  Path:     properatti.csv\n",
            "  Size:     149311692 bytes (143 MiB)\n",
            "  Modified: 2021-11-30 13:17:18\n",
            "? (Y)es / (N)o / (A)lways / (S)kip all / A(u)to rename all / (Q)uit? y\n",
            "\n",
            "  0% - properatti.csv\b\b\b\b\b\b\b\b\b\b\b\b\b\b\b\b\b\b\b\b\b                     \b\b\b\b\b\b\b\b\b\b\b\b\b\b\b\b\b\b\b\b\b 13% - properatti.csv\b\b\b\b\b\b\b\b\b\b\b\b\b\b\b\b\b\b\b\b\b                     \b\b\b\b\b\b\b\b\b\b\b\b\b\b\b\b\b\b\b\b\b 22% - properatti.csv\b\b\b\b\b\b\b\b\b\b\b\b\b\b\b\b\b\b\b\b\b                     \b\b\b\b\b\b\b\b\b\b\b\b\b\b\b\b\b\b\b\b\b 33% - properatti.csv\b\b\b\b\b\b\b\b\b\b\b\b\b\b\b\b\b\b\b\b\b                     \b\b\b\b\b\b\b\b\b\b\b\b\b\b\b\b\b\b\b\b\b 44% - properatti.csv\b\b\b\b\b\b\b\b\b\b\b\b\b\b\b\b\b\b\b\b\b                     \b\b\b\b\b\b\b\b\b\b\b\b\b\b\b\b\b\b\b\b\b 56% - properatti.csv\b\b\b\b\b\b\b\b\b\b\b\b\b\b\b\b\b\b\b\b\b                     \b\b\b\b\b\b\b\b\b\b\b\b\b\b\b\b\b\b\b\b\b 67% - properatti.csv\b\b\b\b\b\b\b\b\b\b\b\b\b\b\b\b\b\b\b\b\b                     \b\b\b\b\b\b\b\b\b\b\b\b\b\b\b\b\b\b\b\b\b 78% - properatti.csv\b\b\b\b\b\b\b\b\b\b\b\b\b\b\b\b\b\b\b\b\b                     \b\b\b\b\b\b\b\b\b\b\b\b\b\b\b\b\b\b\b\b\b 87% - properatti.csv\b\b\b\b\b\b\b\b\b\b\b\b\b\b\b\b\b\b\b\b\b                     \b\b\b\b\b\b\b\b\b\b\b\b\b\b\b\b\b\b\b\b\b 96% - properatti.csv\b\b\b\b\b\b\b\b\b\b\b\b\b\b\b\b\b\b\b\b\b                     \b\b\b\b\b\b\b\b\b\b\b\b\b\b\b\b\b\b\b\b\bEverything is Ok\n",
            "\n",
            "Size:       149311692\n",
            "Compressed: 22745106\n"
          ]
        }
      ],
      "source": [
        "!7z e \"./properatti.7z\""
      ]
    },
    {
      "cell_type": "markdown",
      "metadata": {
        "id": "PGeDsw80KfHy"
      },
      "source": [
        "Cargamos los datos a utilizar"
      ]
    },
    {
      "cell_type": "code",
      "execution_count": null,
      "metadata": {
        "colab": {
          "base_uri": "https://localhost:8080/",
          "height": 548
        },
        "id": "Z54M6PfYDB02",
        "outputId": "f7b918c6-0ab9-4632-9425-1a05c6833e57"
      },
      "outputs": [
        {
          "output_type": "execute_result",
          "data": {
            "text/html": [
              "\n",
              "  <div id=\"df-2cd14edb-e389-4b7a-ba14-11bb8fb0dc0b\">\n",
              "    <div class=\"colab-df-container\">\n",
              "      <div>\n",
              "<style scoped>\n",
              "    .dataframe tbody tr th:only-of-type {\n",
              "        vertical-align: middle;\n",
              "    }\n",
              "\n",
              "    .dataframe tbody tr th {\n",
              "        vertical-align: top;\n",
              "    }\n",
              "\n",
              "    .dataframe thead th {\n",
              "        text-align: right;\n",
              "    }\n",
              "</style>\n",
              "<table border=\"1\" class=\"dataframe\">\n",
              "  <thead>\n",
              "    <tr style=\"text-align: right;\">\n",
              "      <th></th>\n",
              "      <th>Unnamed: 0</th>\n",
              "      <th>operation</th>\n",
              "      <th>property_type</th>\n",
              "      <th>place_name</th>\n",
              "      <th>place_with_parent_names</th>\n",
              "      <th>country_name</th>\n",
              "      <th>state_name</th>\n",
              "      <th>geonames_id</th>\n",
              "      <th>lat-lon</th>\n",
              "      <th>lat</th>\n",
              "      <th>lon</th>\n",
              "      <th>price</th>\n",
              "      <th>currency</th>\n",
              "      <th>price_aprox_local_currency</th>\n",
              "      <th>price_aprox_usd</th>\n",
              "      <th>surface_total_in_m2</th>\n",
              "      <th>surface_covered_in_m2</th>\n",
              "      <th>price_usd_per_m2</th>\n",
              "      <th>price_per_m2</th>\n",
              "      <th>floor</th>\n",
              "      <th>rooms</th>\n",
              "      <th>expenses</th>\n",
              "      <th>properati_url</th>\n",
              "      <th>description</th>\n",
              "      <th>title</th>\n",
              "      <th>image_thumbnail</th>\n",
              "    </tr>\n",
              "  </thead>\n",
              "  <tbody>\n",
              "    <tr>\n",
              "      <th>0</th>\n",
              "      <td>0</td>\n",
              "      <td>sell</td>\n",
              "      <td>PH</td>\n",
              "      <td>Mataderos</td>\n",
              "      <td>|Argentina|Capital Federal|Mataderos|</td>\n",
              "      <td>Argentina</td>\n",
              "      <td>Capital Federal</td>\n",
              "      <td>3430787.0</td>\n",
              "      <td>-34.6618237,-58.5088387</td>\n",
              "      <td>-34.661824</td>\n",
              "      <td>-58.508839</td>\n",
              "      <td>62000.0</td>\n",
              "      <td>USD</td>\n",
              "      <td>1093959.0</td>\n",
              "      <td>62000.0</td>\n",
              "      <td>55.0</td>\n",
              "      <td>40.0</td>\n",
              "      <td>1127.272727</td>\n",
              "      <td>1550.000000</td>\n",
              "      <td>NaN</td>\n",
              "      <td>NaN</td>\n",
              "      <td>NaN</td>\n",
              "      <td>http://www.properati.com.ar/15bo8_venta_ph_mat...</td>\n",
              "      <td>2 AMBIENTES TIPO CASA PLANTA BAJA POR PASILLO,...</td>\n",
              "      <td>2 AMB TIPO CASA SIN EXPENSAS EN PB</td>\n",
              "      <td>https://thumbs4.properati.com/8/BluUYiHJLhgIIK...</td>\n",
              "    </tr>\n",
              "    <tr>\n",
              "      <th>1</th>\n",
              "      <td>1</td>\n",
              "      <td>sell</td>\n",
              "      <td>apartment</td>\n",
              "      <td>La Plata</td>\n",
              "      <td>|Argentina|Bs.As. G.B.A. Zona Sur|La Plata|</td>\n",
              "      <td>Argentina</td>\n",
              "      <td>Bs.As. G.B.A. Zona Sur</td>\n",
              "      <td>3432039.0</td>\n",
              "      <td>-34.9038831,-57.9643295</td>\n",
              "      <td>-34.903883</td>\n",
              "      <td>-57.964330</td>\n",
              "      <td>150000.0</td>\n",
              "      <td>USD</td>\n",
              "      <td>2646675.0</td>\n",
              "      <td>150000.0</td>\n",
              "      <td>NaN</td>\n",
              "      <td>NaN</td>\n",
              "      <td>NaN</td>\n",
              "      <td>NaN</td>\n",
              "      <td>NaN</td>\n",
              "      <td>NaN</td>\n",
              "      <td>NaN</td>\n",
              "      <td>http://www.properati.com.ar/15bob_venta_depart...</td>\n",
              "      <td>Venta de departamento en décimo piso al frente...</td>\n",
              "      <td>VENTA Depto 2 dorm. a estrenar 7 e/ 36 y 37   ...</td>\n",
              "      <td>https://thumbs4.properati.com/7/ikpVBu2ztHA7jv...</td>\n",
              "    </tr>\n",
              "    <tr>\n",
              "      <th>2</th>\n",
              "      <td>2</td>\n",
              "      <td>sell</td>\n",
              "      <td>apartment</td>\n",
              "      <td>Mataderos</td>\n",
              "      <td>|Argentina|Capital Federal|Mataderos|</td>\n",
              "      <td>Argentina</td>\n",
              "      <td>Capital Federal</td>\n",
              "      <td>3430787.0</td>\n",
              "      <td>-34.6522615,-58.5229825</td>\n",
              "      <td>-34.652262</td>\n",
              "      <td>-58.522982</td>\n",
              "      <td>72000.0</td>\n",
              "      <td>USD</td>\n",
              "      <td>1270404.0</td>\n",
              "      <td>72000.0</td>\n",
              "      <td>55.0</td>\n",
              "      <td>55.0</td>\n",
              "      <td>1309.090909</td>\n",
              "      <td>1309.090909</td>\n",
              "      <td>NaN</td>\n",
              "      <td>NaN</td>\n",
              "      <td>NaN</td>\n",
              "      <td>http://www.properati.com.ar/15bod_venta_depart...</td>\n",
              "      <td>2 AMBIENTES 3ER PISO LATERAL LIVING COMEDOR AM...</td>\n",
              "      <td>2 AMB 3ER PISO CON ASCENSOR APTO CREDITO</td>\n",
              "      <td>https://thumbs4.properati.com/5/SXKr34F_IwG3W_...</td>\n",
              "    </tr>\n",
              "    <tr>\n",
              "      <th>3</th>\n",
              "      <td>3</td>\n",
              "      <td>sell</td>\n",
              "      <td>PH</td>\n",
              "      <td>Liniers</td>\n",
              "      <td>|Argentina|Capital Federal|Liniers|</td>\n",
              "      <td>Argentina</td>\n",
              "      <td>Capital Federal</td>\n",
              "      <td>3431333.0</td>\n",
              "      <td>-34.6477969,-58.5164244</td>\n",
              "      <td>-34.647797</td>\n",
              "      <td>-58.516424</td>\n",
              "      <td>95000.0</td>\n",
              "      <td>USD</td>\n",
              "      <td>1676227.5</td>\n",
              "      <td>95000.0</td>\n",
              "      <td>NaN</td>\n",
              "      <td>NaN</td>\n",
              "      <td>NaN</td>\n",
              "      <td>NaN</td>\n",
              "      <td>NaN</td>\n",
              "      <td>NaN</td>\n",
              "      <td>NaN</td>\n",
              "      <td>http://www.properati.com.ar/15boh_venta_ph_lin...</td>\n",
              "      <td>PH 3 ambientes con patio. Hay 3 deptos en lote...</td>\n",
              "      <td>PH 3 amb. cfte. reciclado</td>\n",
              "      <td>https://thumbs4.properati.com/3/DgIfX-85Mog5SP...</td>\n",
              "    </tr>\n",
              "    <tr>\n",
              "      <th>4</th>\n",
              "      <td>4</td>\n",
              "      <td>sell</td>\n",
              "      <td>apartment</td>\n",
              "      <td>Centro</td>\n",
              "      <td>|Argentina|Buenos Aires Costa Atlántica|Mar de...</td>\n",
              "      <td>Argentina</td>\n",
              "      <td>Buenos Aires Costa Atlántica</td>\n",
              "      <td>3435548.0</td>\n",
              "      <td>-38.0026256,-57.5494468</td>\n",
              "      <td>-38.002626</td>\n",
              "      <td>-57.549447</td>\n",
              "      <td>64000.0</td>\n",
              "      <td>USD</td>\n",
              "      <td>1129248.0</td>\n",
              "      <td>64000.0</td>\n",
              "      <td>35.0</td>\n",
              "      <td>35.0</td>\n",
              "      <td>1828.571429</td>\n",
              "      <td>1828.571429</td>\n",
              "      <td>NaN</td>\n",
              "      <td>NaN</td>\n",
              "      <td>NaN</td>\n",
              "      <td>http://www.properati.com.ar/15bok_venta_depart...</td>\n",
              "      <td>DEPARTAMENTO CON FANTÁSTICA ILUMINACIÓN NATURA...</td>\n",
              "      <td>DEPTO 2 AMB AL CONTRAFRENTE ZONA CENTRO/PLAZA ...</td>\n",
              "      <td>https://thumbs4.properati.com/5/xrRqlNcSI_vs-f...</td>\n",
              "    </tr>\n",
              "  </tbody>\n",
              "</table>\n",
              "</div>\n",
              "      <button class=\"colab-df-convert\" onclick=\"convertToInteractive('df-2cd14edb-e389-4b7a-ba14-11bb8fb0dc0b')\"\n",
              "              title=\"Convert this dataframe to an interactive table.\"\n",
              "              style=\"display:none;\">\n",
              "        \n",
              "  <svg xmlns=\"http://www.w3.org/2000/svg\" height=\"24px\"viewBox=\"0 0 24 24\"\n",
              "       width=\"24px\">\n",
              "    <path d=\"M0 0h24v24H0V0z\" fill=\"none\"/>\n",
              "    <path d=\"M18.56 5.44l.94 2.06.94-2.06 2.06-.94-2.06-.94-.94-2.06-.94 2.06-2.06.94zm-11 1L8.5 8.5l.94-2.06 2.06-.94-2.06-.94L8.5 2.5l-.94 2.06-2.06.94zm10 10l.94 2.06.94-2.06 2.06-.94-2.06-.94-.94-2.06-.94 2.06-2.06.94z\"/><path d=\"M17.41 7.96l-1.37-1.37c-.4-.4-.92-.59-1.43-.59-.52 0-1.04.2-1.43.59L10.3 9.45l-7.72 7.72c-.78.78-.78 2.05 0 2.83L4 21.41c.39.39.9.59 1.41.59.51 0 1.02-.2 1.41-.59l7.78-7.78 2.81-2.81c.8-.78.8-2.07 0-2.86zM5.41 20L4 18.59l7.72-7.72 1.47 1.35L5.41 20z\"/>\n",
              "  </svg>\n",
              "      </button>\n",
              "      \n",
              "  <style>\n",
              "    .colab-df-container {\n",
              "      display:flex;\n",
              "      flex-wrap:wrap;\n",
              "      gap: 12px;\n",
              "    }\n",
              "\n",
              "    .colab-df-convert {\n",
              "      background-color: #E8F0FE;\n",
              "      border: none;\n",
              "      border-radius: 50%;\n",
              "      cursor: pointer;\n",
              "      display: none;\n",
              "      fill: #1967D2;\n",
              "      height: 32px;\n",
              "      padding: 0 0 0 0;\n",
              "      width: 32px;\n",
              "    }\n",
              "\n",
              "    .colab-df-convert:hover {\n",
              "      background-color: #E2EBFA;\n",
              "      box-shadow: 0px 1px 2px rgba(60, 64, 67, 0.3), 0px 1px 3px 1px rgba(60, 64, 67, 0.15);\n",
              "      fill: #174EA6;\n",
              "    }\n",
              "\n",
              "    [theme=dark] .colab-df-convert {\n",
              "      background-color: #3B4455;\n",
              "      fill: #D2E3FC;\n",
              "    }\n",
              "\n",
              "    [theme=dark] .colab-df-convert:hover {\n",
              "      background-color: #434B5C;\n",
              "      box-shadow: 0px 1px 3px 1px rgba(0, 0, 0, 0.15);\n",
              "      filter: drop-shadow(0px 1px 2px rgba(0, 0, 0, 0.3));\n",
              "      fill: #FFFFFF;\n",
              "    }\n",
              "  </style>\n",
              "\n",
              "      <script>\n",
              "        const buttonEl =\n",
              "          document.querySelector('#df-2cd14edb-e389-4b7a-ba14-11bb8fb0dc0b button.colab-df-convert');\n",
              "        buttonEl.style.display =\n",
              "          google.colab.kernel.accessAllowed ? 'block' : 'none';\n",
              "\n",
              "        async function convertToInteractive(key) {\n",
              "          const element = document.querySelector('#df-2cd14edb-e389-4b7a-ba14-11bb8fb0dc0b');\n",
              "          const dataTable =\n",
              "            await google.colab.kernel.invokeFunction('convertToInteractive',\n",
              "                                                     [key], {});\n",
              "          if (!dataTable) return;\n",
              "\n",
              "          const docLinkHtml = 'Like what you see? Visit the ' +\n",
              "            '<a target=\"_blank\" href=https://colab.research.google.com/notebooks/data_table.ipynb>data table notebook</a>'\n",
              "            + ' to learn more about interactive tables.';\n",
              "          element.innerHTML = '';\n",
              "          dataTable['output_type'] = 'display_data';\n",
              "          await google.colab.output.renderOutput(dataTable, element);\n",
              "          const docLink = document.createElement('div');\n",
              "          docLink.innerHTML = docLinkHtml;\n",
              "          element.appendChild(docLink);\n",
              "        }\n",
              "      </script>\n",
              "    </div>\n",
              "  </div>\n",
              "  "
            ],
            "text/plain": [
              "   Unnamed: 0  ...                                    image_thumbnail\n",
              "0           0  ...  https://thumbs4.properati.com/8/BluUYiHJLhgIIK...\n",
              "1           1  ...  https://thumbs4.properati.com/7/ikpVBu2ztHA7jv...\n",
              "2           2  ...  https://thumbs4.properati.com/5/SXKr34F_IwG3W_...\n",
              "3           3  ...  https://thumbs4.properati.com/3/DgIfX-85Mog5SP...\n",
              "4           4  ...  https://thumbs4.properati.com/5/xrRqlNcSI_vs-f...\n",
              "\n",
              "[5 rows x 26 columns]"
            ]
          },
          "metadata": {},
          "execution_count": 153
        }
      ],
      "source": [
        "df_original = pd.read_csv('properatti.csv')\n",
        "df_original.head()"
      ]
    },
    {
      "cell_type": "markdown",
      "metadata": {
        "id": "33d39f7vPsIY"
      },
      "source": [
        "## Exploramos el dataset en general"
      ]
    },
    {
      "cell_type": "markdown",
      "metadata": {
        "id": "30YDiztQHToK"
      },
      "source": [
        "Vemos algunas medidas del dataset"
      ]
    },
    {
      "cell_type": "code",
      "execution_count": null,
      "metadata": {
        "colab": {
          "base_uri": "https://localhost:8080/",
          "height": 364
        },
        "id": "Y-yzu3KeB_F2",
        "outputId": "93c445cd-2a5d-4389-f181-2682c9b92672"
      },
      "outputs": [
        {
          "output_type": "execute_result",
          "data": {
            "text/html": [
              "\n",
              "  <div id=\"df-0782bf29-724e-4988-89e7-2d25d57b4e2c\">\n",
              "    <div class=\"colab-df-container\">\n",
              "      <div>\n",
              "<style scoped>\n",
              "    .dataframe tbody tr th:only-of-type {\n",
              "        vertical-align: middle;\n",
              "    }\n",
              "\n",
              "    .dataframe tbody tr th {\n",
              "        vertical-align: top;\n",
              "    }\n",
              "\n",
              "    .dataframe thead th {\n",
              "        text-align: right;\n",
              "    }\n",
              "</style>\n",
              "<table border=\"1\" class=\"dataframe\">\n",
              "  <thead>\n",
              "    <tr style=\"text-align: right;\">\n",
              "      <th></th>\n",
              "      <th>Unnamed: 0</th>\n",
              "      <th>geonames_id</th>\n",
              "      <th>lat</th>\n",
              "      <th>lon</th>\n",
              "      <th>price</th>\n",
              "      <th>price_aprox_local_currency</th>\n",
              "      <th>price_aprox_usd</th>\n",
              "      <th>surface_total_in_m2</th>\n",
              "      <th>surface_covered_in_m2</th>\n",
              "      <th>price_usd_per_m2</th>\n",
              "      <th>price_per_m2</th>\n",
              "      <th>floor</th>\n",
              "      <th>rooms</th>\n",
              "      <th>expenses</th>\n",
              "    </tr>\n",
              "  </thead>\n",
              "  <tbody>\n",
              "    <tr>\n",
              "      <th>count</th>\n",
              "      <td>121220.000000</td>\n",
              "      <td>1.025030e+05</td>\n",
              "      <td>69670.000000</td>\n",
              "      <td>69670.000000</td>\n",
              "      <td>1.008100e+05</td>\n",
              "      <td>1.008100e+05</td>\n",
              "      <td>1.008100e+05</td>\n",
              "      <td>81892.000000</td>\n",
              "      <td>101313.000000</td>\n",
              "      <td>68617.000000</td>\n",
              "      <td>8.765800e+04</td>\n",
              "      <td>7899.000000</td>\n",
              "      <td>47390.000000</td>\n",
              "      <td>1.426200e+04</td>\n",
              "    </tr>\n",
              "    <tr>\n",
              "      <th>mean</th>\n",
              "      <td>60609.500000</td>\n",
              "      <td>3.574442e+06</td>\n",
              "      <td>-34.626210</td>\n",
              "      <td>-59.266290</td>\n",
              "      <td>4.685259e+05</td>\n",
              "      <td>4.229397e+06</td>\n",
              "      <td>2.397006e+05</td>\n",
              "      <td>233.795328</td>\n",
              "      <td>133.050181</td>\n",
              "      <td>2160.086916</td>\n",
              "      <td>6.912216e+03</td>\n",
              "      <td>17.452336</td>\n",
              "      <td>3.080840</td>\n",
              "      <td>5.009234e+03</td>\n",
              "    </tr>\n",
              "    <tr>\n",
              "      <th>std</th>\n",
              "      <td>34993.344153</td>\n",
              "      <td>3.541306e+05</td>\n",
              "      <td>1.980936</td>\n",
              "      <td>2.299922</td>\n",
              "      <td>2.260101e+06</td>\n",
              "      <td>6.904714e+06</td>\n",
              "      <td>3.913239e+05</td>\n",
              "      <td>1782.222147</td>\n",
              "      <td>724.351479</td>\n",
              "      <td>2759.288621</td>\n",
              "      <td>2.837864e+04</td>\n",
              "      <td>120.243621</td>\n",
              "      <td>1.860773</td>\n",
              "      <td>1.204403e+05</td>\n",
              "    </tr>\n",
              "    <tr>\n",
              "      <th>min</th>\n",
              "      <td>0.000000</td>\n",
              "      <td>3.427208e+06</td>\n",
              "      <td>-54.823985</td>\n",
              "      <td>-75.678931</td>\n",
              "      <td>0.000000e+00</td>\n",
              "      <td>0.000000e+00</td>\n",
              "      <td>0.000000e+00</td>\n",
              "      <td>0.000000</td>\n",
              "      <td>0.000000</td>\n",
              "      <td>0.600000</td>\n",
              "      <td>1.510204e+00</td>\n",
              "      <td>1.000000</td>\n",
              "      <td>1.000000</td>\n",
              "      <td>1.000000e+00</td>\n",
              "    </tr>\n",
              "    <tr>\n",
              "      <th>25%</th>\n",
              "      <td>30304.750000</td>\n",
              "      <td>3.430234e+06</td>\n",
              "      <td>-34.669065</td>\n",
              "      <td>-58.727040</td>\n",
              "      <td>1.100000e+05</td>\n",
              "      <td>1.583309e+06</td>\n",
              "      <td>8.973388e+04</td>\n",
              "      <td>50.000000</td>\n",
              "      <td>45.000000</td>\n",
              "      <td>1218.181818</td>\n",
              "      <td>1.550000e+03</td>\n",
              "      <td>1.000000</td>\n",
              "      <td>2.000000</td>\n",
              "      <td>1.000000e+03</td>\n",
              "    </tr>\n",
              "    <tr>\n",
              "      <th>50%</th>\n",
              "      <td>60609.500000</td>\n",
              "      <td>3.433910e+06</td>\n",
              "      <td>-34.597985</td>\n",
              "      <td>-58.480128</td>\n",
              "      <td>1.850000e+05</td>\n",
              "      <td>2.558452e+06</td>\n",
              "      <td>1.450000e+05</td>\n",
              "      <td>84.000000</td>\n",
              "      <td>75.000000</td>\n",
              "      <td>1800.000000</td>\n",
              "      <td>2.213115e+03</td>\n",
              "      <td>3.000000</td>\n",
              "      <td>3.000000</td>\n",
              "      <td>2.000000e+03</td>\n",
              "    </tr>\n",
              "    <tr>\n",
              "      <th>75%</th>\n",
              "      <td>90914.250000</td>\n",
              "      <td>3.836668e+06</td>\n",
              "      <td>-34.441299</td>\n",
              "      <td>-58.395908</td>\n",
              "      <td>4.200000e+05</td>\n",
              "      <td>4.675792e+06</td>\n",
              "      <td>2.650000e+05</td>\n",
              "      <td>200.000000</td>\n",
              "      <td>150.000000</td>\n",
              "      <td>2486.411765</td>\n",
              "      <td>3.355549e+03</td>\n",
              "      <td>6.000000</td>\n",
              "      <td>4.000000</td>\n",
              "      <td>4.000000e+03</td>\n",
              "    </tr>\n",
              "    <tr>\n",
              "      <th>max</th>\n",
              "      <td>121219.000000</td>\n",
              "      <td>6.948895e+06</td>\n",
              "      <td>4.545843</td>\n",
              "      <td>-53.733330</td>\n",
              "      <td>6.500000e+08</td>\n",
              "      <td>8.212711e+08</td>\n",
              "      <td>4.654544e+07</td>\n",
              "      <td>200000.000000</td>\n",
              "      <td>187000.000000</td>\n",
              "      <td>206333.333333</td>\n",
              "      <td>4.000000e+06</td>\n",
              "      <td>3150.000000</td>\n",
              "      <td>32.000000</td>\n",
              "      <td>1.000150e+07</td>\n",
              "    </tr>\n",
              "  </tbody>\n",
              "</table>\n",
              "</div>\n",
              "      <button class=\"colab-df-convert\" onclick=\"convertToInteractive('df-0782bf29-724e-4988-89e7-2d25d57b4e2c')\"\n",
              "              title=\"Convert this dataframe to an interactive table.\"\n",
              "              style=\"display:none;\">\n",
              "        \n",
              "  <svg xmlns=\"http://www.w3.org/2000/svg\" height=\"24px\"viewBox=\"0 0 24 24\"\n",
              "       width=\"24px\">\n",
              "    <path d=\"M0 0h24v24H0V0z\" fill=\"none\"/>\n",
              "    <path d=\"M18.56 5.44l.94 2.06.94-2.06 2.06-.94-2.06-.94-.94-2.06-.94 2.06-2.06.94zm-11 1L8.5 8.5l.94-2.06 2.06-.94-2.06-.94L8.5 2.5l-.94 2.06-2.06.94zm10 10l.94 2.06.94-2.06 2.06-.94-2.06-.94-.94-2.06-.94 2.06-2.06.94z\"/><path d=\"M17.41 7.96l-1.37-1.37c-.4-.4-.92-.59-1.43-.59-.52 0-1.04.2-1.43.59L10.3 9.45l-7.72 7.72c-.78.78-.78 2.05 0 2.83L4 21.41c.39.39.9.59 1.41.59.51 0 1.02-.2 1.41-.59l7.78-7.78 2.81-2.81c.8-.78.8-2.07 0-2.86zM5.41 20L4 18.59l7.72-7.72 1.47 1.35L5.41 20z\"/>\n",
              "  </svg>\n",
              "      </button>\n",
              "      \n",
              "  <style>\n",
              "    .colab-df-container {\n",
              "      display:flex;\n",
              "      flex-wrap:wrap;\n",
              "      gap: 12px;\n",
              "    }\n",
              "\n",
              "    .colab-df-convert {\n",
              "      background-color: #E8F0FE;\n",
              "      border: none;\n",
              "      border-radius: 50%;\n",
              "      cursor: pointer;\n",
              "      display: none;\n",
              "      fill: #1967D2;\n",
              "      height: 32px;\n",
              "      padding: 0 0 0 0;\n",
              "      width: 32px;\n",
              "    }\n",
              "\n",
              "    .colab-df-convert:hover {\n",
              "      background-color: #E2EBFA;\n",
              "      box-shadow: 0px 1px 2px rgba(60, 64, 67, 0.3), 0px 1px 3px 1px rgba(60, 64, 67, 0.15);\n",
              "      fill: #174EA6;\n",
              "    }\n",
              "\n",
              "    [theme=dark] .colab-df-convert {\n",
              "      background-color: #3B4455;\n",
              "      fill: #D2E3FC;\n",
              "    }\n",
              "\n",
              "    [theme=dark] .colab-df-convert:hover {\n",
              "      background-color: #434B5C;\n",
              "      box-shadow: 0px 1px 3px 1px rgba(0, 0, 0, 0.15);\n",
              "      filter: drop-shadow(0px 1px 2px rgba(0, 0, 0, 0.3));\n",
              "      fill: #FFFFFF;\n",
              "    }\n",
              "  </style>\n",
              "\n",
              "      <script>\n",
              "        const buttonEl =\n",
              "          document.querySelector('#df-0782bf29-724e-4988-89e7-2d25d57b4e2c button.colab-df-convert');\n",
              "        buttonEl.style.display =\n",
              "          google.colab.kernel.accessAllowed ? 'block' : 'none';\n",
              "\n",
              "        async function convertToInteractive(key) {\n",
              "          const element = document.querySelector('#df-0782bf29-724e-4988-89e7-2d25d57b4e2c');\n",
              "          const dataTable =\n",
              "            await google.colab.kernel.invokeFunction('convertToInteractive',\n",
              "                                                     [key], {});\n",
              "          if (!dataTable) return;\n",
              "\n",
              "          const docLinkHtml = 'Like what you see? Visit the ' +\n",
              "            '<a target=\"_blank\" href=https://colab.research.google.com/notebooks/data_table.ipynb>data table notebook</a>'\n",
              "            + ' to learn more about interactive tables.';\n",
              "          element.innerHTML = '';\n",
              "          dataTable['output_type'] = 'display_data';\n",
              "          await google.colab.output.renderOutput(dataTable, element);\n",
              "          const docLink = document.createElement('div');\n",
              "          docLink.innerHTML = docLinkHtml;\n",
              "          element.appendChild(docLink);\n",
              "        }\n",
              "      </script>\n",
              "    </div>\n",
              "  </div>\n",
              "  "
            ],
            "text/plain": [
              "          Unnamed: 0   geonames_id  ...         rooms      expenses\n",
              "count  121220.000000  1.025030e+05  ...  47390.000000  1.426200e+04\n",
              "mean    60609.500000  3.574442e+06  ...      3.080840  5.009234e+03\n",
              "std     34993.344153  3.541306e+05  ...      1.860773  1.204403e+05\n",
              "min         0.000000  3.427208e+06  ...      1.000000  1.000000e+00\n",
              "25%     30304.750000  3.430234e+06  ...      2.000000  1.000000e+03\n",
              "50%     60609.500000  3.433910e+06  ...      3.000000  2.000000e+03\n",
              "75%     90914.250000  3.836668e+06  ...      4.000000  4.000000e+03\n",
              "max    121219.000000  6.948895e+06  ...     32.000000  1.000150e+07\n",
              "\n",
              "[8 rows x 14 columns]"
            ]
          },
          "metadata": {},
          "execution_count": 154
        }
      ],
      "source": [
        "df_original.describe()"
      ]
    },
    {
      "cell_type": "markdown",
      "metadata": {
        "id": "JbeoZNntHajU"
      },
      "source": [
        "Vemos el tipo de dato y los nulos en las variables"
      ]
    },
    {
      "cell_type": "code",
      "execution_count": null,
      "metadata": {
        "colab": {
          "base_uri": "https://localhost:8080/"
        },
        "id": "EHGUNW4jG87R",
        "outputId": "f7a0f4ff-97a1-48fa-c97d-0d2381dd535e"
      },
      "outputs": [
        {
          "output_type": "stream",
          "name": "stdout",
          "text": [
            "<class 'pandas.core.frame.DataFrame'>\n",
            "RangeIndex: 121220 entries, 0 to 121219\n",
            "Data columns (total 26 columns):\n",
            " #   Column                      Non-Null Count   Dtype  \n",
            "---  ------                      --------------   -----  \n",
            " 0   Unnamed: 0                  121220 non-null  int64  \n",
            " 1   operation                   121220 non-null  object \n",
            " 2   property_type               121220 non-null  object \n",
            " 3   place_name                  121197 non-null  object \n",
            " 4   place_with_parent_names     121220 non-null  object \n",
            " 5   country_name                121220 non-null  object \n",
            " 6   state_name                  121220 non-null  object \n",
            " 7   geonames_id                 102503 non-null  float64\n",
            " 8   lat-lon                     69670 non-null   object \n",
            " 9   lat                         69670 non-null   float64\n",
            " 10  lon                         69670 non-null   float64\n",
            " 11  price                       100810 non-null  float64\n",
            " 12  currency                    100809 non-null  object \n",
            " 13  price_aprox_local_currency  100810 non-null  float64\n",
            " 14  price_aprox_usd             100810 non-null  float64\n",
            " 15  surface_total_in_m2         81892 non-null   float64\n",
            " 16  surface_covered_in_m2       101313 non-null  float64\n",
            " 17  price_usd_per_m2            68617 non-null   float64\n",
            " 18  price_per_m2                87658 non-null   float64\n",
            " 19  floor                       7899 non-null    float64\n",
            " 20  rooms                       47390 non-null   float64\n",
            " 21  expenses                    14262 non-null   float64\n",
            " 22  properati_url               121220 non-null  object \n",
            " 23  description                 121218 non-null  object \n",
            " 24  title                       121220 non-null  object \n",
            " 25  image_thumbnail             118108 non-null  object \n",
            "dtypes: float64(13), int64(1), object(12)\n",
            "memory usage: 24.0+ MB\n"
          ]
        }
      ],
      "source": [
        "df_original.info()"
      ]
    },
    {
      "cell_type": "markdown",
      "metadata": {
        "id": "NXgX1QbwHePl"
      },
      "source": [
        "## Comenzamos a ver las variables individualmente\n",
        "\n",
        "Esto lo haremos sobre las variables relevantes"
      ]
    },
    {
      "cell_type": "markdown",
      "metadata": {
        "id": "n1czka7RQzL6"
      },
      "source": [
        "Variable **operation**\n",
        "\n"
      ]
    },
    {
      "cell_type": "code",
      "execution_count": null,
      "metadata": {
        "colab": {
          "base_uri": "https://localhost:8080/"
        },
        "id": "zXrrlI5gH_L6",
        "outputId": "b717e275-c352-411e-c00d-1672c3f756f3"
      },
      "outputs": [
        {
          "output_type": "execute_result",
          "data": {
            "text/plain": [
              "sell    121220\n",
              "Name: operation, dtype: int64"
            ]
          },
          "metadata": {},
          "execution_count": 156
        }
      ],
      "source": [
        "df_original.operation.value_counts()"
      ]
    },
    {
      "cell_type": "markdown",
      "metadata": {
        "id": "qVnlkOerICQS"
      },
      "source": [
        "La descartaremos del análisis porque tiene un único valor"
      ]
    },
    {
      "cell_type": "markdown",
      "metadata": {
        "id": "axYEp1aAQ94Q"
      },
      "source": [
        "Variable **property_type**"
      ]
    },
    {
      "cell_type": "code",
      "execution_count": null,
      "metadata": {
        "colab": {
          "base_uri": "https://localhost:8080/"
        },
        "id": "hipbLu3yHeoc",
        "outputId": "624819d5-8696-49f6-a8a6-649b9c6db703"
      },
      "outputs": [
        {
          "output_type": "execute_result",
          "data": {
            "text/plain": [
              "apartment    71065\n",
              "house        40268\n",
              "PH            5751\n",
              "store         4136\n",
              "Name: property_type, dtype: int64"
            ]
          },
          "metadata": {},
          "execution_count": 157
        }
      ],
      "source": [
        "df_original.property_type.value_counts()"
      ]
    },
    {
      "cell_type": "markdown",
      "source": [
        "Posee 4 valores distintos en el dataset"
      ],
      "metadata": {
        "id": "sH1dF-NoFfhx"
      }
    },
    {
      "cell_type": "code",
      "execution_count": null,
      "metadata": {
        "colab": {
          "base_uri": "https://localhost:8080/"
        },
        "id": "qVI4WqjDIWLe",
        "outputId": "74028d9b-d0d2-4795-9b4c-3b83898485a8"
      },
      "outputs": [
        {
          "output_type": "execute_result",
          "data": {
            "text/plain": [
              "False    121220\n",
              "Name: property_type, dtype: int64"
            ]
          },
          "metadata": {},
          "execution_count": 158
        }
      ],
      "source": [
        "df_original.property_type.isnull().value_counts()"
      ]
    },
    {
      "cell_type": "markdown",
      "source": [
        "No tiene nulos"
      ],
      "metadata": {
        "id": "05WKNl7ZFjcv"
      }
    },
    {
      "cell_type": "markdown",
      "source": [
        "Variable **place_name**"
      ],
      "metadata": {
        "id": "NB6fMm9SFm5a"
      }
    },
    {
      "cell_type": "code",
      "execution_count": null,
      "metadata": {
        "colab": {
          "base_uri": "https://localhost:8080/"
        },
        "id": "sqCru_pFIdx2",
        "outputId": "efc0455e-6b0c-4036-95ba-707395dc025b"
      },
      "outputs": [
        {
          "output_type": "execute_result",
          "data": {
            "text/plain": [
              "Córdoba                       9254\n",
              "Rosario                       8504\n",
              "Mar del Plata                 6534\n",
              "Tigre                         3324\n",
              "Nordelta                      3315\n",
              "                              ... \n",
              "Barrio Cerrado \"La Emilia\"       1\n",
              "Pehuen-có                        1\n",
              "San Francisco del Monte          1\n",
              "Arroyo Ceibal                    1\n",
              "San Esteban                      1\n",
              "Name: place_name, Length: 1060, dtype: int64"
            ]
          },
          "metadata": {},
          "execution_count": 159
        }
      ],
      "source": [
        "df_original.place_name.value_counts()"
      ]
    },
    {
      "cell_type": "code",
      "execution_count": null,
      "metadata": {
        "colab": {
          "base_uri": "https://localhost:8080/"
        },
        "id": "CoAnFc6WInFz",
        "outputId": "e08c077e-6dbc-4e5d-cf8a-67399965494c"
      },
      "outputs": [
        {
          "output_type": "execute_result",
          "data": {
            "text/plain": [
              "False    121197\n",
              "True         23\n",
              "Name: place_name, dtype: int64"
            ]
          },
          "metadata": {},
          "execution_count": 160
        }
      ],
      "source": [
        "df_original.place_name.isnull().value_counts()"
      ]
    },
    {
      "cell_type": "markdown",
      "source": [
        "Variable **place_with_parent_names**"
      ],
      "metadata": {
        "id": "62brpceCGK0q"
      }
    },
    {
      "cell_type": "code",
      "execution_count": null,
      "metadata": {
        "id": "C5vt4lMbInDR",
        "colab": {
          "base_uri": "https://localhost:8080/"
        },
        "outputId": "42d639ec-a897-425a-b063-526288438e7b"
      },
      "outputs": [
        {
          "output_type": "execute_result",
          "data": {
            "text/plain": [
              "|Argentina|Santa Fe|Rosario|                                              8504\n",
              "|Argentina|Córdoba|Córdoba|                                               6606\n",
              "|Argentina|Buenos Aires Costa Atlántica|Mar del Plata|                    6534\n",
              "|Argentina|Bs.As. G.B.A. Zona Norte|Tigre|Nordelta|                       3315\n",
              "|Argentina|Capital Federal|Belgrano|                                      2992\n",
              "                                                                          ... \n",
              "|Argentina|Bs.As. G.B.A. Zona Norte|Pilar|Barrio Cerrado \"Villa Rosa\"|       1\n",
              "|Argentina|Bs.As. G.B.A. Zona Sur|Cañuelas|Chacras de La Trinidad|           1\n",
              "|Argentina|Bs.As. G.B.A. Zona Norte|Pilar|La Pilarica|                       1\n",
              "|Argentina|Entre Ríos|Villa Paranacito|                                      1\n",
              "|Argentina|Santa Fe|Coronel Bogado|                                          1\n",
              "Name: place_with_parent_names, Length: 1164, dtype: int64"
            ]
          },
          "metadata": {},
          "execution_count": 161
        }
      ],
      "source": [
        "df_original.place_with_parent_names.value_counts()"
      ]
    },
    {
      "cell_type": "code",
      "execution_count": null,
      "metadata": {
        "id": "PFrWdDU5Im7g",
        "colab": {
          "base_uri": "https://localhost:8080/"
        },
        "outputId": "7e34e67c-10a5-4215-ff37-26ddafe46e4d"
      },
      "outputs": [
        {
          "output_type": "execute_result",
          "data": {
            "text/plain": [
              "False    121220\n",
              "Name: place_with_parent_names, dtype: int64"
            ]
          },
          "metadata": {},
          "execution_count": 162
        }
      ],
      "source": [
        "df_original.place_with_parent_names.isnull().value_counts()"
      ]
    },
    {
      "cell_type": "markdown",
      "source": [
        "Variable **country_name**"
      ],
      "metadata": {
        "id": "reL4hb3hGIhR"
      }
    },
    {
      "cell_type": "code",
      "execution_count": null,
      "metadata": {
        "id": "5jk4CVtYI7zq",
        "colab": {
          "base_uri": "https://localhost:8080/"
        },
        "outputId": "a2da9365-3d42-4523-daaf-e15a0b0d1c22"
      },
      "outputs": [
        {
          "output_type": "execute_result",
          "data": {
            "text/plain": [
              "Argentina    121220\n",
              "Name: country_name, dtype: int64"
            ]
          },
          "metadata": {},
          "execution_count": 163
        }
      ],
      "source": [
        "df_original.country_name.value_counts()"
      ]
    },
    {
      "cell_type": "markdown",
      "metadata": {
        "id": "H1Rz5yyxJCNV"
      },
      "source": [
        "Se descarta tambíen del análisis porque toma un único valor"
      ]
    },
    {
      "cell_type": "markdown",
      "source": [
        "Variable **state_name**"
      ],
      "metadata": {
        "id": "Yih3xqOqZ_oy"
      }
    },
    {
      "cell_type": "code",
      "source": [
        "df_original.state_name.value_counts()"
      ],
      "metadata": {
        "colab": {
          "base_uri": "https://localhost:8080/"
        },
        "id": "K1nNRNCHZ_-5",
        "outputId": "6961545a-2a7a-42ef-ac08-fb4eab8557ae"
      },
      "execution_count": null,
      "outputs": [
        {
          "output_type": "execute_result",
          "data": {
            "text/plain": [
              "Capital Federal                 32316\n",
              "Bs.As. G.B.A. Zona Norte        25560\n",
              "Bs.As. G.B.A. Zona Sur          13952\n",
              "Córdoba                         12069\n",
              "Santa Fe                        10172\n",
              "Buenos Aires Costa Atlántica    10006\n",
              "Bs.As. G.B.A. Zona Oeste         9322\n",
              "Buenos Aires Interior            2291\n",
              "Río Negro                         808\n",
              "Neuquén                           733\n",
              "Mendoza                           681\n",
              "Tucumán                           674\n",
              "Corrientes                        583\n",
              "Misiones                          464\n",
              "Entre Ríos                        369\n",
              "Salta                             278\n",
              "Chubut                            259\n",
              "San Luis                          252\n",
              "La Pampa                          157\n",
              "Formosa                            65\n",
              "Chaco                              57\n",
              "San Juan                           40\n",
              "Tierra Del Fuego                   31\n",
              "Catamarca                          27\n",
              "Jujuy                              26\n",
              "Santa Cruz                         20\n",
              "Santiago Del Estero                 4\n",
              "La Rioja                            4\n",
              "Name: state_name, dtype: int64"
            ]
          },
          "metadata": {},
          "execution_count": 164
        }
      ]
    },
    {
      "cell_type": "code",
      "source": [
        "df_original.state_name.value_counts(normalize=True)*100"
      ],
      "metadata": {
        "colab": {
          "base_uri": "https://localhost:8080/"
        },
        "id": "WjDOCU2BaFAC",
        "outputId": "60ba6a68-ee42-4090-f32d-039338aa99bd"
      },
      "execution_count": null,
      "outputs": [
        {
          "output_type": "execute_result",
          "data": {
            "text/plain": [
              "Capital Federal                 26.658967\n",
              "Bs.As. G.B.A. Zona Norte        21.085629\n",
              "Bs.As. G.B.A. Zona Sur          11.509652\n",
              "Córdoba                          9.956278\n",
              "Santa Fe                         8.391355\n",
              "Buenos Aires Costa Atlántica     8.254413\n",
              "Bs.As. G.B.A. Zona Oeste         7.690150\n",
              "Buenos Aires Interior            1.889952\n",
              "Río Negro                        0.666557\n",
              "Neuquén                          0.604686\n",
              "Mendoza                          0.561788\n",
              "Tucumán                          0.556014\n",
              "Corrientes                       0.480944\n",
              "Misiones                         0.382775\n",
              "Entre Ríos                       0.304405\n",
              "Salta                            0.229335\n",
              "Chubut                           0.213661\n",
              "San Luis                         0.207886\n",
              "La Pampa                         0.129517\n",
              "Formosa                          0.053622\n",
              "Chaco                            0.047022\n",
              "San Juan                         0.032998\n",
              "Tierra Del Fuego                 0.025573\n",
              "Catamarca                        0.022274\n",
              "Jujuy                            0.021449\n",
              "Santa Cruz                       0.016499\n",
              "Santiago Del Estero              0.003300\n",
              "La Rioja                         0.003300\n",
              "Name: state_name, dtype: float64"
            ]
          },
          "metadata": {},
          "execution_count": 165
        }
      ]
    },
    {
      "cell_type": "markdown",
      "source": [
        "La gran mayoría de las propiedades son de Capital Federal y Provincia de Buenos Aires"
      ],
      "metadata": {
        "id": "CGwjVyvgaKre"
      }
    },
    {
      "cell_type": "markdown",
      "source": [
        "Variable **price**"
      ],
      "metadata": {
        "id": "XNDE9CDGGdq0"
      }
    },
    {
      "cell_type": "code",
      "execution_count": null,
      "metadata": {
        "id": "LSNH-rWyI7ux",
        "colab": {
          "base_uri": "https://localhost:8080/"
        },
        "outputId": "9bcb9679-31f8-4258-f6b5-b1e8e8780f87"
      },
      "outputs": [
        {
          "output_type": "execute_result",
          "data": {
            "text/plain": [
              "False    100810\n",
              "True      20410\n",
              "Name: price, dtype: int64"
            ]
          },
          "metadata": {},
          "execution_count": 166
        }
      ],
      "source": [
        "df_original.price.isnull().value_counts()"
      ]
    },
    {
      "cell_type": "markdown",
      "source": [
        "Variable **price_aprox_usd**"
      ],
      "metadata": {
        "id": "A_kbGZ7BGiEj"
      }
    },
    {
      "cell_type": "code",
      "execution_count": null,
      "metadata": {
        "id": "wC044UX4I7pP",
        "colab": {
          "base_uri": "https://localhost:8080/"
        },
        "outputId": "06d57196-5d30-4d18-c7bd-e65c265620a8"
      },
      "outputs": [
        {
          "output_type": "execute_result",
          "data": {
            "text/plain": [
              "False    100810\n",
              "True      20410\n",
              "Name: price_aprox_usd, dtype: int64"
            ]
          },
          "metadata": {},
          "execution_count": 167
        }
      ],
      "source": [
        "df_original.price_aprox_usd.isnull().value_counts()"
      ]
    },
    {
      "cell_type": "markdown",
      "metadata": {
        "id": "DvLIS9ioK6tY"
      },
      "source": [
        "Esta variable, **price_aprox_usd**, será la variable target\n"
      ]
    },
    {
      "cell_type": "markdown",
      "source": [
        "Variable **price_aprox_local_currency**"
      ],
      "metadata": {
        "id": "hBOSQoVxGwPM"
      }
    },
    {
      "cell_type": "code",
      "execution_count": null,
      "metadata": {
        "id": "PVYOKSXpKq52",
        "colab": {
          "base_uri": "https://localhost:8080/"
        },
        "outputId": "130469b1-5c38-4200-bb58-9952a8fa3f10"
      },
      "outputs": [
        {
          "output_type": "execute_result",
          "data": {
            "text/plain": [
              "False    100810\n",
              "True      20410\n",
              "Name: price_aprox_local_currency, dtype: int64"
            ]
          },
          "metadata": {},
          "execution_count": 168
        }
      ],
      "source": [
        "df_original.price_aprox_local_currency.isnull().value_counts()"
      ]
    },
    {
      "cell_type": "markdown",
      "source": [
        "Variable **currency**"
      ],
      "metadata": {
        "id": "5eqI68HTG1El"
      }
    },
    {
      "cell_type": "code",
      "execution_count": null,
      "metadata": {
        "id": "_SP85NLhKwMH",
        "colab": {
          "base_uri": "https://localhost:8080/"
        },
        "outputId": "91cfab9e-32db-42ce-a188-2db6449bb36d"
      },
      "outputs": [
        {
          "output_type": "execute_result",
          "data": {
            "text/plain": [
              "USD    87587\n",
              "ARS    13219\n",
              "PEN        2\n",
              "UYU        1\n",
              "Name: currency, dtype: int64"
            ]
          },
          "metadata": {},
          "execution_count": 169
        }
      ],
      "source": [
        "df_original.currency.value_counts()"
      ]
    },
    {
      "cell_type": "markdown",
      "source": [
        "Existen varios valores, pero mayoritariamente prevalecen los dólares estadounidenses y pesos argentinos"
      ],
      "metadata": {
        "id": "PwgnJ71YV_Ee"
      }
    },
    {
      "cell_type": "markdown",
      "source": [
        "Variable **surface_total_in_m2**"
      ],
      "metadata": {
        "id": "c_phTeFGWbg5"
      }
    },
    {
      "cell_type": "code",
      "execution_count": null,
      "metadata": {
        "id": "ZoKW9zGPJuSe",
        "colab": {
          "base_uri": "https://localhost:8080/"
        },
        "outputId": "7ff3d57d-362c-4179-9892-62cca8f6c154"
      },
      "outputs": [
        {
          "output_type": "execute_result",
          "data": {
            "text/plain": [
              "50.0      1721\n",
              "40.0      1698\n",
              "45.0      1404\n",
              "60.0      1396\n",
              "70.0      1115\n",
              "          ... \n",
              "2237.0       1\n",
              "1448.0       1\n",
              "6648.0       1\n",
              "1081.0       1\n",
              "1038.0       1\n",
              "Name: surface_total_in_m2, Length: 1687, dtype: int64"
            ]
          },
          "metadata": {},
          "execution_count": 170
        }
      ],
      "source": [
        "df_original.surface_total_in_m2.value_counts()"
      ]
    },
    {
      "cell_type": "code",
      "execution_count": null,
      "metadata": {
        "id": "GxfWbPoWJoRf",
        "colab": {
          "base_uri": "https://localhost:8080/"
        },
        "outputId": "606db992-35d5-44bf-dcc8-e0f833f93181"
      },
      "outputs": [
        {
          "output_type": "execute_result",
          "data": {
            "text/plain": [
              "False    81892\n",
              "True     39328\n",
              "Name: surface_total_in_m2, dtype: int64"
            ]
          },
          "metadata": {},
          "execution_count": 171
        }
      ],
      "source": [
        "df_original.surface_total_in_m2.isnull().value_counts()"
      ]
    },
    {
      "cell_type": "code",
      "source": [
        "df_original.surface_total_in_m2.isnull().value_counts(normalize=True)"
      ],
      "metadata": {
        "colab": {
          "base_uri": "https://localhost:8080/"
        },
        "id": "BcUYrQqBWRq4",
        "outputId": "1b64a02b-3f70-44bd-831e-882fdd796d4a"
      },
      "execution_count": null,
      "outputs": [
        {
          "output_type": "execute_result",
          "data": {
            "text/plain": [
              "False    0.675565\n",
              "True     0.324435\n",
              "Name: surface_total_in_m2, dtype: float64"
            ]
          },
          "metadata": {},
          "execution_count": 172
        }
      ]
    },
    {
      "cell_type": "markdown",
      "source": [
        "Existe más de un 30% de nulos"
      ],
      "metadata": {
        "id": "FlWnr8w1WVyR"
      }
    },
    {
      "cell_type": "markdown",
      "source": [
        "Variable **surface_covered_in_m2**"
      ],
      "metadata": {
        "id": "98InGGyDWfiB"
      }
    },
    {
      "cell_type": "code",
      "execution_count": null,
      "metadata": {
        "id": "R46MPuh4Jwp-",
        "colab": {
          "base_uri": "https://localhost:8080/"
        },
        "outputId": "dabcc232-8590-4923-ec56-76de477fcb23"
      },
      "outputs": [
        {
          "output_type": "execute_result",
          "data": {
            "text/plain": [
              "40.0      2736\n",
              "50.0      2184\n",
              "45.0      2142\n",
              "60.0      1888\n",
              "100.0     1848\n",
              "          ... \n",
              "944.0        1\n",
              "1589.0       1\n",
              "628.0        1\n",
              "849.0        1\n",
              "2300.0       1\n",
              "Name: surface_covered_in_m2, Length: 995, dtype: int64"
            ]
          },
          "metadata": {},
          "execution_count": 173
        }
      ],
      "source": [
        "df_original.surface_covered_in_m2.value_counts()"
      ]
    },
    {
      "cell_type": "code",
      "execution_count": null,
      "metadata": {
        "id": "qZ-jKWhWJwec",
        "colab": {
          "base_uri": "https://localhost:8080/"
        },
        "outputId": "2df83f0f-74ca-4ac2-a394-88df37dedda0"
      },
      "outputs": [
        {
          "output_type": "execute_result",
          "data": {
            "text/plain": [
              "False    101313\n",
              "True      19907\n",
              "Name: surface_covered_in_m2, dtype: int64"
            ]
          },
          "metadata": {},
          "execution_count": 174
        }
      ],
      "source": [
        "df_original.surface_covered_in_m2.isnull().value_counts()"
      ]
    },
    {
      "cell_type": "markdown",
      "source": [
        "Variable **floor**"
      ],
      "metadata": {
        "id": "kmuSAliPWl0i"
      }
    },
    {
      "cell_type": "code",
      "execution_count": null,
      "metadata": {
        "id": "YsthL6S3I7hv",
        "colab": {
          "base_uri": "https://localhost:8080/"
        },
        "outputId": "36707db6-88fb-4297-b134-14d842930ba0"
      },
      "outputs": [
        {
          "output_type": "execute_result",
          "data": {
            "text/plain": [
              "1.0      2080\n",
              "2.0      1542\n",
              "3.0       914\n",
              "4.0       658\n",
              "5.0       484\n",
              "         ... \n",
              "124.0       1\n",
              "691.0       1\n",
              "205.0       1\n",
              "302.0       1\n",
              "30.0        1\n",
              "Name: floor, Length: 182, dtype: int64"
            ]
          },
          "metadata": {},
          "execution_count": 175
        }
      ],
      "source": [
        "df_original.floor.value_counts()"
      ]
    },
    {
      "cell_type": "markdown",
      "source": [
        "Pareciera ser que existen algunos registros con valores erróneos"
      ],
      "metadata": {
        "id": "Fwg0uevYIA3i"
      }
    },
    {
      "cell_type": "code",
      "execution_count": null,
      "metadata": {
        "id": "9tS7NcAgGExZ",
        "colab": {
          "base_uri": "https://localhost:8080/"
        },
        "outputId": "36fbe607-627d-4506-fb72-8810991f473b"
      },
      "outputs": [
        {
          "output_type": "execute_result",
          "data": {
            "text/plain": [
              "True     113321\n",
              "False      7899\n",
              "Name: floor, dtype: int64"
            ]
          },
          "metadata": {},
          "execution_count": 176
        }
      ],
      "source": [
        "df_original.floor.isnull().value_counts()"
      ]
    },
    {
      "cell_type": "code",
      "source": [
        "df_original.floor.isnull().value_counts(normalize=True)"
      ],
      "metadata": {
        "colab": {
          "base_uri": "https://localhost:8080/"
        },
        "id": "Pcif0HtfHtN3",
        "outputId": "62ea9b12-01d6-48b0-88de-7083a1127110"
      },
      "execution_count": null,
      "outputs": [
        {
          "output_type": "execute_result",
          "data": {
            "text/plain": [
              "True     0.934837\n",
              "False    0.065163\n",
              "Name: floor, dtype: float64"
            ]
          },
          "metadata": {},
          "execution_count": 177
        }
      ]
    },
    {
      "cell_type": "markdown",
      "source": [
        "Hay una gran cantidad de nulos, más del 90% de los registros"
      ],
      "metadata": {
        "id": "lwuF1uw_Hm_R"
      }
    },
    {
      "cell_type": "markdown",
      "source": [
        "Vemos algunos valores de los pisos más altos que el 100"
      ],
      "metadata": {
        "id": "AFkIBURFW1De"
      }
    },
    {
      "cell_type": "code",
      "execution_count": null,
      "metadata": {
        "id": "QFtIr8gjKm4w",
        "colab": {
          "base_uri": "https://localhost:8080/"
        },
        "outputId": "3db20263-f309-4edc-e585-4b9289a22518"
      },
      "outputs": [
        {
          "output_type": "execute_result",
          "data": {
            "text/plain": [
              "108.0     5\n",
              "1609.0    4\n",
              "403.0     4\n",
              "104.0     4\n",
              "301.0     3\n",
              "         ..\n",
              "306.0     1\n",
              "234.0     1\n",
              "205.0     1\n",
              "133.0     1\n",
              "107.0     1\n",
              "Name: floor, Length: 120, dtype: int64"
            ]
          },
          "metadata": {},
          "execution_count": 178
        }
      ],
      "source": [
        "mask = df_original.floor>100\n",
        "df_original.loc[mask,:].floor.value_counts()"
      ]
    },
    {
      "cell_type": "markdown",
      "source": [
        "Variable **rooms**"
      ],
      "metadata": {
        "id": "qMWQ1Jx3W531"
      }
    },
    {
      "cell_type": "code",
      "execution_count": null,
      "metadata": {
        "id": "tSjKkV2PMBhA",
        "colab": {
          "base_uri": "https://localhost:8080/"
        },
        "outputId": "c6066a64-c318-43ec-ff2e-e870bee3033b"
      },
      "outputs": [
        {
          "output_type": "execute_result",
          "data": {
            "text/plain": [
              "3.0     12567\n",
              "2.0     12433\n",
              "4.0      7937\n",
              "1.0      7377\n",
              "5.0      3782\n",
              "6.0      1403\n",
              "7.0       770\n",
              "8.0       409\n",
              "10.0      226\n",
              "9.0       184\n",
              "11.0       72\n",
              "12.0       65\n",
              "13.0       33\n",
              "14.0       27\n",
              "15.0       26\n",
              "17.0       16\n",
              "16.0       11\n",
              "20.0       11\n",
              "22.0        8\n",
              "18.0        6\n",
              "21.0        5\n",
              "30.0        4\n",
              "25.0        4\n",
              "19.0        4\n",
              "32.0        3\n",
              "23.0        2\n",
              "24.0        1\n",
              "27.0        1\n",
              "29.0        1\n",
              "31.0        1\n",
              "28.0        1\n",
              "Name: rooms, dtype: int64"
            ]
          },
          "metadata": {},
          "execution_count": 179
        }
      ],
      "source": [
        "df_original.rooms.value_counts()"
      ]
    },
    {
      "cell_type": "code",
      "execution_count": null,
      "metadata": {
        "id": "hhHv6iBYMBX4",
        "colab": {
          "base_uri": "https://localhost:8080/"
        },
        "outputId": "3c9659df-23e2-43d9-ce81-7a994fddb0c7"
      },
      "outputs": [
        {
          "output_type": "execute_result",
          "data": {
            "text/plain": [
              "True     73830\n",
              "False    47390\n",
              "Name: rooms, dtype: int64"
            ]
          },
          "metadata": {},
          "execution_count": 180
        }
      ],
      "source": [
        "df_original.rooms.isnull().value_counts()"
      ]
    },
    {
      "cell_type": "code",
      "source": [
        "df_original.rooms.isnull().value_counts(normalize=True)"
      ],
      "metadata": {
        "colab": {
          "base_uri": "https://localhost:8080/"
        },
        "id": "nQD557CJXGp4",
        "outputId": "161fc80a-346a-4a2b-e263-4302ccc7ccd0"
      },
      "execution_count": null,
      "outputs": [
        {
          "output_type": "execute_result",
          "data": {
            "text/plain": [
              "True     0.609058\n",
              "False    0.390942\n",
              "Name: rooms, dtype: float64"
            ]
          },
          "metadata": {},
          "execution_count": 181
        }
      ]
    },
    {
      "cell_type": "markdown",
      "source": [
        "Existe un 60% de nulos en la variable"
      ],
      "metadata": {
        "id": "1lf-mha7XK-_"
      }
    },
    {
      "cell_type": "markdown",
      "source": [
        "Variable **expenses**"
      ],
      "metadata": {
        "id": "AFuRVh1kXQvI"
      }
    },
    {
      "cell_type": "code",
      "execution_count": null,
      "metadata": {
        "id": "6TpVBV5pKmkm",
        "colab": {
          "base_uri": "https://localhost:8080/"
        },
        "outputId": "6d3ad3d0-4b7e-4507-8ce7-0b9826049cdf"
      },
      "outputs": [
        {
          "output_type": "execute_result",
          "data": {
            "text/plain": [
              "1.0        1028\n",
              "1000.0      627\n",
              "1500.0      617\n",
              "2000.0      561\n",
              "1200.0      508\n",
              "           ... \n",
              "1935.0        1\n",
              "22762.0       1\n",
              "2472.0        1\n",
              "1883.0        1\n",
              "11920.0       1\n",
              "Name: expenses, Length: 982, dtype: int64"
            ]
          },
          "metadata": {},
          "execution_count": 182
        }
      ],
      "source": [
        "df_original.expenses.value_counts()"
      ]
    },
    {
      "cell_type": "code",
      "execution_count": null,
      "metadata": {
        "id": "KlsroUckMYnq",
        "colab": {
          "base_uri": "https://localhost:8080/"
        },
        "outputId": "8e8e90d4-7179-40e6-85cd-6136920de2e3"
      },
      "outputs": [
        {
          "output_type": "execute_result",
          "data": {
            "text/plain": [
              "True     106958\n",
              "False     14262\n",
              "Name: expenses, dtype: int64"
            ]
          },
          "metadata": {},
          "execution_count": 183
        }
      ],
      "source": [
        "df_original.expenses.isnull().value_counts()"
      ]
    },
    {
      "cell_type": "code",
      "source": [
        "df_original.expenses.isnull().value_counts(normalize=True)"
      ],
      "metadata": {
        "colab": {
          "base_uri": "https://localhost:8080/"
        },
        "id": "Dh5mZaAxXZSp",
        "outputId": "752f636b-2ea3-47ff-8d96-d994aa02d2f6"
      },
      "execution_count": null,
      "outputs": [
        {
          "output_type": "execute_result",
          "data": {
            "text/plain": [
              "True     0.882346\n",
              "False    0.117654\n",
              "Name: expenses, dtype: float64"
            ]
          },
          "metadata": {},
          "execution_count": 184
        }
      ]
    },
    {
      "cell_type": "markdown",
      "source": [
        "Para esta variable, también es extremadamente alta la proporción de nulos, cercana al 90%"
      ],
      "metadata": {
        "id": "3c4BJLgSXYJB"
      }
    },
    {
      "cell_type": "markdown",
      "source": [
        "Ahora veremos como queda el dataset en cuanto a cantidad de registros si consideramos solo los que tienen **price_aprox_usd** no nulo"
      ],
      "metadata": {
        "id": "I_BCraP6Xl8s"
      }
    },
    {
      "cell_type": "code",
      "execution_count": null,
      "metadata": {
        "id": "FN39aRLPMqcM",
        "colab": {
          "base_uri": "https://localhost:8080/"
        },
        "outputId": "05a9a803-ca5c-4c64-a68a-c28d6f9742e2"
      },
      "outputs": [
        {
          "output_type": "stream",
          "name": "stdout",
          "text": [
            "La cantidad de registros es: 100810\n"
          ]
        }
      ],
      "source": [
        "df_con_target = df_original.copy()\n",
        "mask = df_con_target.price_aprox_usd.isnull()\n",
        "df_con_target = df_con_target.loc[mask==False,:]\n",
        "print(f'La cantidad de registros es: {df_con_target.shape[0]}')"
      ]
    },
    {
      "cell_type": "markdown",
      "source": [
        "Sobre este nuevo dataset, vemos la cantidad y la proporción de nulos de la superficie total"
      ],
      "metadata": {
        "id": "0S5U0T1JYGSQ"
      }
    },
    {
      "cell_type": "code",
      "execution_count": null,
      "metadata": {
        "id": "KlhcaUuoMqWL",
        "colab": {
          "base_uri": "https://localhost:8080/"
        },
        "outputId": "2106b824-19cb-4233-8cc2-2da74bfa9536"
      },
      "outputs": [
        {
          "output_type": "execute_result",
          "data": {
            "text/plain": [
              "False    68866\n",
              "True     31944\n",
              "Name: surface_total_in_m2, dtype: int64"
            ]
          },
          "metadata": {},
          "execution_count": 186
        }
      ],
      "source": [
        "df_con_target.surface_total_in_m2.isnull().value_counts()"
      ]
    },
    {
      "cell_type": "code",
      "source": [
        "df_con_target.surface_total_in_m2.isnull().value_counts(normalize=True)"
      ],
      "metadata": {
        "colab": {
          "base_uri": "https://localhost:8080/"
        },
        "id": "eSEbfDYcYRbi",
        "outputId": "2b989c9a-afc5-4720-8fb9-e09c372bf43f"
      },
      "execution_count": null,
      "outputs": [
        {
          "output_type": "execute_result",
          "data": {
            "text/plain": [
              "False    0.683127\n",
              "True     0.316873\n",
              "Name: surface_total_in_m2, dtype: float64"
            ]
          },
          "metadata": {},
          "execution_count": 187
        }
      ]
    },
    {
      "cell_type": "markdown",
      "source": [
        "Existe poco más del 30% de los registros con este campo en nulo"
      ],
      "metadata": {
        "id": "tRNZlmyeYca2"
      }
    },
    {
      "cell_type": "markdown",
      "source": [
        "Además, vemos la cantidad y la proporción de nulos de la superficie cubierta"
      ],
      "metadata": {
        "id": "SQ3KZmoHYMWx"
      }
    },
    {
      "cell_type": "code",
      "execution_count": null,
      "metadata": {
        "id": "MoWdvJ-hMqHD",
        "colab": {
          "base_uri": "https://localhost:8080/"
        },
        "outputId": "4213ae8c-f77e-4976-e007-54d27509778e"
      },
      "outputs": [
        {
          "output_type": "execute_result",
          "data": {
            "text/plain": [
              "False    87660\n",
              "True     13150\n",
              "Name: surface_covered_in_m2, dtype: int64"
            ]
          },
          "metadata": {},
          "execution_count": 188
        }
      ],
      "source": [
        "df_con_target.surface_covered_in_m2.isnull().value_counts()"
      ]
    },
    {
      "cell_type": "code",
      "source": [
        "df_con_target.surface_covered_in_m2.isnull().value_counts(normalize=True)"
      ],
      "metadata": {
        "colab": {
          "base_uri": "https://localhost:8080/"
        },
        "id": "DPWflYBFYjCD",
        "outputId": "5a04b0ec-9c2f-4ffb-f7bd-311f2c6f18fd"
      },
      "execution_count": null,
      "outputs": [
        {
          "output_type": "execute_result",
          "data": {
            "text/plain": [
              "False    0.869557\n",
              "True     0.130443\n",
              "Name: surface_covered_in_m2, dtype: float64"
            ]
          },
          "metadata": {},
          "execution_count": 189
        }
      ]
    },
    {
      "cell_type": "markdown",
      "source": [
        "Existen menos del 15% de los registros con este campo en nulo"
      ],
      "metadata": {
        "id": "e6PitdxlYmN0"
      }
    },
    {
      "cell_type": "markdown",
      "metadata": {
        "id": "bwpB_jPTj0P7"
      },
      "source": [
        "## Graficos de proporción\n",
        "\n",
        "---\n",
        "\n"
      ]
    },
    {
      "cell_type": "code",
      "execution_count": null,
      "metadata": {
        "id": "JnlwEA6AlaXN",
        "colab": {
          "base_uri": "https://localhost:8080/"
        },
        "outputId": "caa22c5c-4638-404c-c012-acfa83030742"
      },
      "outputs": [
        {
          "output_type": "display_data",
          "data": {
            "image/png": "[encoded data removed]",
            "text/plain": [
              "<Figure size 432x288 with 1 Axes>"
            ]
          },
          "metadata": {}
        }
      ],
      "source": [
        "data = df_original.price.isnull().value_counts(normalize=True) * 100\n",
        "labels = ['No nulo', 'Nulo']\n",
        "colors = sns.color_palette('pastel')[0:len(labels)]\n",
        "plt.pie(data, labels = labels, colors = colors, autopct='%.0f%%')\n",
        "plt.title(\"Proporción nulos de price\")\n",
        "plt.show()"
      ]
    },
    {
      "cell_type": "code",
      "source": [
        "data = df_original.state_name.value_counts(normalize=True) * 100\n",
        "labels = ['No nulo', 'Nulo']\n",
        "labels = data.index.tolist()\n",
        "colors = sns.color_palette('pastel')[0:len(labels)]\n",
        "plt.pie(data, labels = labels, colors = colors, autopct='%.0f%%')\n",
        "plt.title(\"Proporción valores de state_name\")\n",
        "plt.show()"
      ],
      "metadata": {
        "colab": {
          "base_uri": "https://localhost:8080/"
        },
        "id": "oUkii_vJZkoW",
        "outputId": "7f95d955-f655-4099-a017-a0dcc2a3553f"
      },
      "execution_count": null,
      "outputs": [
        {
          "output_type": "display_data",
          "data": {
            "image/png": "[encoded data removed]",
            "text/plain": [
              "<Figure size 432x288 with 1 Axes>"
            ]
          },
          "metadata": {}
        }
      ]
    },
    {
      "cell_type": "code",
      "source": [
        "data = df_original.property_type.value_counts(normalize=True) * 100\n",
        "labels = ['No nulo', 'Nulo']\n",
        "labels = data.index.tolist()\n",
        "colors = sns.color_palette('pastel')[0:len(labels)]\n",
        "plt.pie(data, labels = labels, colors = colors, autopct='%.0f%%')\n",
        "plt.title(\"Proporción valores de property_type\")\n",
        "plt.show()"
      ],
      "metadata": {
        "colab": {
          "base_uri": "https://localhost:8080/"
        },
        "id": "kiN9grJlZb2t",
        "outputId": "f32a94ba-908e-4705-8607-4775281d31a9"
      },
      "execution_count": null,
      "outputs": [
        {
          "output_type": "display_data",
          "data": {
            "image/png": "[encoded data removed]",
            "text/plain": [
              "<Figure size 432x288 with 1 Axes>"
            ]
          },
          "metadata": {}
        }
      ]
    },
    {
      "cell_type": "code",
      "source": [
        "df_original.shape\n"
      ],
      "metadata": {
        "id": "iu1v8dQ1cJN_",
        "outputId": "f910c2f2-86a5-40c5-b324-68beb930996a",
        "colab": {
          "base_uri": "https://localhost:8080/"
        }
      },
      "execution_count": null,
      "outputs": [
        {
          "output_type": "execute_result",
          "data": {
            "text/plain": [
              "(121220, 26)"
            ]
          },
          "metadata": {},
          "execution_count": 193
        }
      ]
    },
    {
      "cell_type": "code",
      "execution_count": null,
      "metadata": {
        "id": "e2g2obD4qWOH",
        "colab": {
          "base_uri": "https://localhost:8080/"
        },
        "outputId": "12bfdc92-22ce-4000-c933-dead6a81b22e"
      },
      "outputs": [
        {
          "output_type": "display_data",
          "data": {
            "image/png": "[encoded data removed]",
            "text/plain": [
              "<Figure size 432x288 with 1 Axes>"
            ]
          },
          "metadata": {}
        }
      ],
      "source": [
        "data = df_original.price_aprox_usd.isnull().value_counts(normalize=True) * 100\n",
        "labels = ['No nulo', 'Nulo']\n",
        "colors = sns.color_palette('pastel')[0:len(labels)]\n",
        "plt.pie(data, labels = labels, colors = colors, autopct='%.0f%%')\n",
        "plt.title(\"Proporción nulos de price_aprox_usd\")\n",
        "plt.show()"
      ]
    },
    {
      "cell_type": "code",
      "execution_count": null,
      "metadata": {
        "id": "WXUGzMp0qn-D",
        "colab": {
          "base_uri": "https://localhost:8080/"
        },
        "outputId": "69f74c48-0680-4404-ad93-4ba6ee95c92b"
      },
      "outputs": [
        {
          "output_type": "display_data",
          "data": {
            "image/png": "[encoded data removed]",
            "text/plain": [
              "<Figure size 432x288 with 1 Axes>"
            ]
          },
          "metadata": {}
        }
      ],
      "source": [
        "data = df_original.surface_total_in_m2.isnull().value_counts(normalize=True) * 100\n",
        "labels = ['No nulo', 'Nulo']\n",
        "colors = sns.color_palette('pastel')[0:len(labels)]\n",
        "plt.pie(data, labels = labels, colors = colors, autopct='%.0f%%')\n",
        "plt.title(\"Proporción nulos de surface_total_in_m2\")\n",
        "plt.show()"
      ]
    },
    {
      "cell_type": "code",
      "execution_count": null,
      "metadata": {
        "id": "a08LSPQdqqua",
        "colab": {
          "base_uri": "https://localhost:8080/"
        },
        "outputId": "a1454eb8-ba4c-41ce-d0af-30ddc4ec81bb"
      },
      "outputs": [
        {
          "output_type": "display_data",
          "data": {
            "image/png": "[encoded data removed]",
            "text/plain": [
              "<Figure size 432x288 with 1 Axes>"
            ]
          },
          "metadata": {}
        }
      ],
      "source": [
        "data = df_original.surface_covered_in_m2.isnull().value_counts(normalize=True) * 100\n",
        "labels = ['No nulo', 'Nulo']\n",
        "colors = sns.color_palette('pastel')[0:len(labels)]\n",
        "plt.pie(data, labels = labels, colors = colors, autopct='%.0f%%')\n",
        "plt.title(\"Proporción nulos de surface_covered_in_m2\")\n",
        "plt.show()"
      ]
    },
    {
      "cell_type": "code",
      "execution_count": null,
      "metadata": {
        "id": "T8kjB7LJqybp",
        "colab": {
          "base_uri": "https://localhost:8080/"
        },
        "outputId": "9b08c618-b34e-45d4-c4e8-31a1fd9b0eaa"
      },
      "outputs": [
        {
          "output_type": "display_data",
          "data": {
            "image/png": "[encoded data removed]",
            "text/plain": [
              "<Figure size 432x288 with 1 Axes>"
            ]
          },
          "metadata": {}
        }
      ],
      "source": [
        "data = df_original.floor.isnull().value_counts(normalize=True) * 100\n",
        "labels = ['Nulo', 'No nulo']\n",
        "colors = sns.color_palette('pastel')[0:len(labels)]\n",
        "colors = colors[::-1]\n",
        "plt.pie(data, labels = labels, colors = colors, autopct='%.0f%%')\n",
        "plt.title(\"Proporción nulos de floor\")\n",
        "plt.show()"
      ]
    },
    {
      "cell_type": "code",
      "execution_count": null,
      "metadata": {
        "id": "e7uEOEhTrK3P",
        "colab": {
          "base_uri": "https://localhost:8080/"
        },
        "outputId": "5bdea0e3-4d98-4b49-f1a9-c236ee54062d"
      },
      "outputs": [
        {
          "output_type": "display_data",
          "data": {
            "image/png": "[encoded data removed]",
            "text/plain": [
              "<Figure size 432x288 with 1 Axes>"
            ]
          },
          "metadata": {}
        }
      ],
      "source": [
        "data = df_original.rooms.isnull().value_counts(normalize=True) * 100\n",
        "labels = ['Nulo', 'No nulo']\n",
        "colors = sns.color_palette('pastel')[0:len(labels)]\n",
        "colors = colors[::-1]\n",
        "plt.pie(data, labels = labels, colors = colors, autopct='%.0f%%')\n",
        "plt.title(\"Proporción nulos de rooms\")\n",
        "plt.show()"
      ]
    },
    {
      "cell_type": "code",
      "execution_count": null,
      "metadata": {
        "id": "ckDoG8U_rbJf",
        "colab": {
          "base_uri": "https://localhost:8080/"
        },
        "outputId": "37fc846d-3a91-4b21-a4f0-01b6587b7325"
      },
      "outputs": [
        {
          "output_type": "display_data",
          "data": {
            "image/png": "[encoded data removed]",
            "text/plain": [
              "<Figure size 432x288 with 1 Axes>"
            ]
          },
          "metadata": {}
        }
      ],
      "source": [
        "data = df_original.expenses.isnull().value_counts(normalize=True) * 100\n",
        "labels = ['Nulo', 'No nulo']\n",
        "colors = sns.color_palette('pastel')[0:len(labels)]\n",
        "colors = colors[::-1]\n",
        "plt.pie(data, labels = labels, colors = colors, autopct='%.0f%%')\n",
        "plt.title(\"Proporción nulos de expenses\")\n",
        "plt.show()"
      ]
    },
    {
      "cell_type": "markdown",
      "metadata": {
        "id": "J-USDh8KdrR6"
      },
      "source": [
        "## Graficamos las relaciones entre algunas variables"
      ]
    },
    {
      "cell_type": "markdown",
      "source": [
        "Vemos la relción entre el tipo de propiedad y el precio"
      ],
      "metadata": {
        "id": "_ma5-gIsdFEq"
      }
    },
    {
      "cell_type": "code",
      "execution_count": null,
      "metadata": {
        "id": "EC8pjLe3gqm9",
        "colab": {
          "base_uri": "https://localhost:8080/",
          "height": 309
        },
        "outputId": "e2736d18-812b-4a7c-b244-843403635a6b"
      },
      "outputs": [
        {
          "output_type": "execute_result",
          "data": {
            "text/plain": [
              "<matplotlib.axes._subplots.AxesSubplot at 0x7f5cb334fd10>"
            ]
          },
          "metadata": {},
          "execution_count": 200
        },
        {
          "output_type": "display_data",
          "data": {
            "image/png": "[encoded data removed]",
            "text/plain": [
              "<Figure size 432x288 with 1 Axes>"
            ]
          },
          "metadata": {
            "needs_background": "light"
          }
        }
      ],
      "source": [
        "sns.boxplot(x=\"property_type\", y=\"price_aprox_usd\",\n",
        "            hue=\"property_type\",\n",
        "            data=df_original)"
      ]
    },
    {
      "cell_type": "markdown",
      "source": [
        "Vemos la relación entre las variables, coloreadas por tipo de propiedad"
      ],
      "metadata": {
        "id": "TuNgCdOUdyHW"
      }
    },
    {
      "cell_type": "code",
      "source": [
        "df_pairplot = df_original.copy()\n",
        "df_pairplot.drop(columns=['Unnamed: 0', 'operation', 'place_name', 'country_name', 'state_name', 'geonames_id',\n",
        "       'lat-lon', 'lat', 'lon', 'price', 'currency', 'price_aprox_local_currency', 'price_usd_per_m2', 'price_per_m2',\n",
        "       'properati_url', 'description', 'title','image_thumbnail','expenses','floor','rooms'], axis=1, inplace=True)\n",
        "sns.pairplot(df_pairplot, hue=\"property_type\")"
      ],
      "metadata": {
        "colab": {
          "base_uri": "https://localhost:8080/",
          "height": 568
        },
        "id": "KP1vTdNUNviR",
        "outputId": "ac800678-17b8-4293-82f2-5aac0a47e3b5"
      },
      "execution_count": null,
      "outputs": [
        {
          "output_type": "execute_result",
          "data": {
            "text/plain": [
              "<seaborn.axisgrid.PairGrid at 0x7f5cb35a1110>"
            ]
          },
          "metadata": {},
          "execution_count": 201
        },
        {
          "output_type": "display_data",
          "data": {
            "image/png": "[encoded data removed]",
            "text/plain": [
              "<Figure size 628.5x540 with 12 Axes>"
            ]
          },
          "metadata": {
            "needs_background": "light"
          }
        }
      ]
    },
    {
      "cell_type": "code",
      "source": [
        "corrMatrix = df_pairplot.corr()\n",
        "sns.heatmap(corrMatrix, annot=True)\n",
        "plt.show()"
      ],
      "metadata": {
        "colab": {
          "base_uri": "https://localhost:8080/",
          "height": 377
        },
        "id": "TllvtkSVSo18",
        "outputId": "366924bf-4ec5-4044-dd9d-ca9c5a6409e3"
      },
      "execution_count": null,
      "outputs": [
        {
          "output_type": "display_data",
          "data": {
            "image/png": "[encoded data removed]",
            "text/plain": [
              "<Figure size 432x288 with 2 Axes>"
            ]
          },
          "metadata": {
            "needs_background": "light"
          }
        }
      ]
    },
    {
      "cell_type": "markdown",
      "source": [
        "Hacemos foco en la relación entre superficie total y precio"
      ],
      "metadata": {
        "id": "bz5fh_raeZld"
      }
    },
    {
      "cell_type": "code",
      "execution_count": null,
      "metadata": {
        "id": "2isb_XSUhb_w",
        "colab": {
          "base_uri": "https://localhost:8080/",
          "height": 309
        },
        "outputId": "fc970965-d4e9-4c7f-ef89-5f6449244779"
      },
      "outputs": [
        {
          "output_type": "execute_result",
          "data": {
            "text/plain": [
              "<matplotlib.axes._subplots.AxesSubplot at 0x7f5cb2d3c990>"
            ]
          },
          "metadata": {},
          "execution_count": 203
        },
        {
          "output_type": "display_data",
          "data": {
            "image/png": "[encoded data removed]",
            "text/plain": [
              "<Figure size 432x288 with 1 Axes>"
            ]
          },
          "metadata": {
            "needs_background": "light"
          }
        }
      ],
      "source": [
        "sns.scatterplot(x=\"surface_total_in_m2\", y=\"price_aprox_usd\",\n",
        "                hue=\"property_type\",\n",
        "                sizes=(2, 10), linewidth=0,\n",
        "                data=df_original)"
      ]
    },
    {
      "cell_type": "markdown",
      "source": [
        "Hacemos foco en la relación entre superficie cubierta y precio"
      ],
      "metadata": {
        "id": "tjwKPAfNfbfX"
      }
    },
    {
      "cell_type": "code",
      "execution_count": null,
      "metadata": {
        "id": "fo21Cfw9it6H",
        "colab": {
          "base_uri": "https://localhost:8080/",
          "height": 309
        },
        "outputId": "c7c3d106-d954-4138-87cf-44dc69750d51"
      },
      "outputs": [
        {
          "output_type": "execute_result",
          "data": {
            "text/plain": [
              "<matplotlib.axes._subplots.AxesSubplot at 0x7f5cb2d8fa50>"
            ]
          },
          "metadata": {},
          "execution_count": 204
        },
        {
          "output_type": "display_data",
          "data": {
            "image/png": "[encoded data removed]",
            "text/plain": [
              "<Figure size 432x288 with 1 Axes>"
            ]
          },
          "metadata": {
            "needs_background": "light"
          }
        }
      ],
      "source": [
        "sns.scatterplot(x=\"surface_covered_in_m2\", y=\"price_aprox_usd\",\n",
        "                hue=\"property_type\",\n",
        "                sizes=(1, 10), linewidth=0,\n",
        "                data=df_original)"
      ]
    },
    {
      "cell_type": "markdown",
      "source": [
        "Hacemos foco en la relación entre piso y precio"
      ],
      "metadata": {
        "id": "tOhi2uStfhQs"
      }
    },
    {
      "cell_type": "code",
      "execution_count": null,
      "metadata": {
        "id": "jhEdchknizz1",
        "colab": {
          "base_uri": "https://localhost:8080/",
          "height": 308
        },
        "outputId": "2cce3343-415b-45c5-b45f-06417706d242"
      },
      "outputs": [
        {
          "output_type": "execute_result",
          "data": {
            "text/plain": [
              "<matplotlib.axes._subplots.AxesSubplot at 0x7f5cb27582d0>"
            ]
          },
          "metadata": {},
          "execution_count": 205
        },
        {
          "output_type": "display_data",
          "data": {
            "image/png": "[encoded data removed]",
            "text/plain": [
              "<Figure size 432x288 with 1 Axes>"
            ]
          },
          "metadata": {
            "needs_background": "light"
          }
        }
      ],
      "source": [
        "sns.scatterplot(x=\"floor\", y=\"price_aprox_usd\",\n",
        "                hue=\"property_type\",\n",
        "                sizes=(1, 10), linewidth=0,\n",
        "                data=df_original)"
      ]
    },
    {
      "cell_type": "markdown",
      "source": [
        "Hacemos foco en la relación entre habitaciones y precio"
      ],
      "metadata": {
        "id": "bJVAK529fnNt"
      }
    },
    {
      "cell_type": "code",
      "execution_count": null,
      "metadata": {
        "id": "0hG151IAi8qP",
        "colab": {
          "base_uri": "https://localhost:8080/",
          "height": 308
        },
        "outputId": "36d2d20e-64e8-4704-8695-75a9be54a171"
      },
      "outputs": [
        {
          "output_type": "execute_result",
          "data": {
            "text/plain": [
              "<matplotlib.axes._subplots.AxesSubplot at 0x7f5cb2765610>"
            ]
          },
          "metadata": {},
          "execution_count": 206
        },
        {
          "output_type": "display_data",
          "data": {
            "image/png": "[encoded data removed]",
            "text/plain": [
              "<Figure size 432x288 with 1 Axes>"
            ]
          },
          "metadata": {
            "needs_background": "light"
          }
        }
      ],
      "source": [
        "sns.scatterplot(x=\"rooms\", y=\"price_aprox_usd\",\n",
        "                hue=\"property_type\",\n",
        "                sizes=(1, 10), linewidth=0,\n",
        "                data=df_original)"
      ]
    },
    {
      "cell_type": "markdown",
      "source": [
        "Hacemos foco en la relación entre expensas y precio"
      ],
      "metadata": {
        "id": "6vl5vAXMfs8-"
      }
    },
    {
      "cell_type": "code",
      "execution_count": null,
      "metadata": {
        "id": "5b00ScI_jAl3",
        "colab": {
          "base_uri": "https://localhost:8080/",
          "height": 308
        },
        "outputId": "7aa56bf6-06a2-4c80-dfa0-54178804c410"
      },
      "outputs": [
        {
          "output_type": "execute_result",
          "data": {
            "text/plain": [
              "<matplotlib.axes._subplots.AxesSubplot at 0x7f5cb281ddd0>"
            ]
          },
          "metadata": {},
          "execution_count": 207
        },
        {
          "output_type": "display_data",
          "data": {
            "image/png": "[encoded data removed]",
            "text/plain": [
              "<Figure size 432x288 with 1 Axes>"
            ]
          },
          "metadata": {
            "needs_background": "light"
          }
        }
      ],
      "source": [
        "sns.scatterplot(x=\"expenses\", y=\"price_aprox_usd\",\n",
        "                hue=\"property_type\",\n",
        "                sizes=(1, 10), linewidth=0,\n",
        "                data=df_original)"
      ]
    },
    {
      "cell_type": "markdown",
      "source": [
        "Observamos la relación entre superficie total y precio nuevamente, sin colorear por tipo de propiedad"
      ],
      "metadata": {
        "id": "54WEe82UfxAK"
      }
    },
    {
      "cell_type": "code",
      "execution_count": null,
      "metadata": {
        "id": "fdPwvEjoo0iM",
        "colab": {
          "base_uri": "https://localhost:8080/",
          "height": 309
        },
        "outputId": "fd926b8a-5e5c-4e61-fc92-a9142a3c52dd"
      },
      "outputs": [
        {
          "output_type": "execute_result",
          "data": {
            "text/plain": [
              "<matplotlib.axes._subplots.AxesSubplot at 0x7f5cb2592b50>"
            ]
          },
          "metadata": {},
          "execution_count": 208
        },
        {
          "output_type": "display_data",
          "data": {
            "image/png": "[encoded data removed]",
            "text/plain": [
              "<Figure size 432x288 with 1 Axes>"
            ]
          },
          "metadata": {
            "needs_background": "light"
          }
        }
      ],
      "source": [
        "sns.scatterplot(data = df_original, x = \"surface_total_in_m2\", y = \"price_aprox_usd\")"
      ]
    },
    {
      "cell_type": "markdown",
      "source": [
        "Observamos la relación entre superficie cubierta y precio nuevamente, sin colorear por tipo de propiedad"
      ],
      "metadata": {
        "id": "3e4NLNsWgAjj"
      }
    },
    {
      "cell_type": "code",
      "execution_count": null,
      "metadata": {
        "id": "F_ycIPyopFZD",
        "colab": {
          "base_uri": "https://localhost:8080/",
          "height": 309
        },
        "outputId": "2a1c7eb7-2e3c-43f0-b318-939df6199e7a"
      },
      "outputs": [
        {
          "output_type": "execute_result",
          "data": {
            "text/plain": [
              "<matplotlib.axes._subplots.AxesSubplot at 0x7f5cb2bcd4d0>"
            ]
          },
          "metadata": {},
          "execution_count": 209
        },
        {
          "output_type": "display_data",
          "data": {
            "image/png": "[encoded data removed]",
            "text/plain": [
              "<Figure size 432x288 with 1 Axes>"
            ]
          },
          "metadata": {
            "needs_background": "light"
          }
        }
      ],
      "source": [
        "sns.scatterplot(data = df_original, x = \"surface_covered_in_m2\", y = \"price_aprox_usd\")"
      ]
    },
    {
      "cell_type": "markdown",
      "source": [
        "Observamos la relación entre superficie cubierta y superficie total"
      ],
      "metadata": {
        "id": "rMKxZ96QgGpp"
      }
    },
    {
      "cell_type": "code",
      "source": [
        "sns.scatterplot(data = df_original, x = \"surface_covered_in_m2\", y = \"surface_total_in_m2\")"
      ],
      "metadata": {
        "id": "TvYP0NhsgCxf",
        "colab": {
          "base_uri": "https://localhost:8080/",
          "height": 298
        },
        "outputId": "b17c744d-0454-4c28-d0a2-85aa4a076511"
      },
      "execution_count": null,
      "outputs": [
        {
          "output_type": "execute_result",
          "data": {
            "text/plain": [
              "<matplotlib.axes._subplots.AxesSubplot at 0x7f5cb2b3d750>"
            ]
          },
          "metadata": {},
          "execution_count": 210
        },
        {
          "output_type": "display_data",
          "data": {
            "image/png": "[encoded data removed]",
            "text/plain": [
              "<Figure size 432x288 with 1 Axes>"
            ]
          },
          "metadata": {
            "needs_background": "light"
          }
        }
      ]
    },
    {
      "cell_type": "markdown",
      "metadata": {
        "id": "Jzm2jqTmeIOj"
      },
      "source": [
        "## Filtramos las propiedades que NO usaremos"
      ]
    },
    {
      "cell_type": "markdown",
      "metadata": {
        "id": "n8MGoCT-fw8_"
      },
      "source": [
        "Creamos una copia de trabajo sin las columnas que no tiene sentido analizar"
      ]
    },
    {
      "cell_type": "code",
      "execution_count": null,
      "metadata": {
        "id": "ip_trcCjeMTU",
        "colab": {
          "base_uri": "https://localhost:8080/"
        },
        "outputId": "3802de8a-8907-4d5a-f6b4-013f95467ef8"
      },
      "outputs": [
        {
          "output_type": "execute_result",
          "data": {
            "text/html": [
              "\n",
              "  <div id=\"df-663b8a43-6a0e-4256-a5ab-0b3d6bc7c671\">\n",
              "    <div class=\"colab-df-container\">\n",
              "      <div>\n",
              "<style scoped>\n",
              "    .dataframe tbody tr th:only-of-type {\n",
              "        vertical-align: middle;\n",
              "    }\n",
              "\n",
              "    .dataframe tbody tr th {\n",
              "        vertical-align: top;\n",
              "    }\n",
              "\n",
              "    .dataframe thead th {\n",
              "        text-align: right;\n",
              "    }\n",
              "</style>\n",
              "<table border=\"1\" class=\"dataframe\">\n",
              "  <thead>\n",
              "    <tr style=\"text-align: right;\">\n",
              "      <th></th>\n",
              "      <th>property_type</th>\n",
              "      <th>place_with_parent_names</th>\n",
              "      <th>price_aprox_usd</th>\n",
              "      <th>surface_total_in_m2</th>\n",
              "      <th>surface_covered_in_m2</th>\n",
              "      <th>floor</th>\n",
              "      <th>rooms</th>\n",
              "      <th>expenses</th>\n",
              "    </tr>\n",
              "  </thead>\n",
              "  <tbody>\n",
              "    <tr>\n",
              "      <th>0</th>\n",
              "      <td>PH</td>\n",
              "      <td>|Argentina|Capital Federal|Mataderos|</td>\n",
              "      <td>62000.00</td>\n",
              "      <td>55.0</td>\n",
              "      <td>40.0</td>\n",
              "      <td>NaN</td>\n",
              "      <td>NaN</td>\n",
              "      <td>NaN</td>\n",
              "    </tr>\n",
              "    <tr>\n",
              "      <th>1</th>\n",
              "      <td>apartment</td>\n",
              "      <td>|Argentina|Bs.As. G.B.A. Zona Sur|La Plata|</td>\n",
              "      <td>150000.00</td>\n",
              "      <td>NaN</td>\n",
              "      <td>NaN</td>\n",
              "      <td>NaN</td>\n",
              "      <td>NaN</td>\n",
              "      <td>NaN</td>\n",
              "    </tr>\n",
              "    <tr>\n",
              "      <th>2</th>\n",
              "      <td>apartment</td>\n",
              "      <td>|Argentina|Capital Federal|Mataderos|</td>\n",
              "      <td>72000.00</td>\n",
              "      <td>55.0</td>\n",
              "      <td>55.0</td>\n",
              "      <td>NaN</td>\n",
              "      <td>NaN</td>\n",
              "      <td>NaN</td>\n",
              "    </tr>\n",
              "    <tr>\n",
              "      <th>3</th>\n",
              "      <td>PH</td>\n",
              "      <td>|Argentina|Capital Federal|Liniers|</td>\n",
              "      <td>95000.00</td>\n",
              "      <td>NaN</td>\n",
              "      <td>NaN</td>\n",
              "      <td>NaN</td>\n",
              "      <td>NaN</td>\n",
              "      <td>NaN</td>\n",
              "    </tr>\n",
              "    <tr>\n",
              "      <th>4</th>\n",
              "      <td>apartment</td>\n",
              "      <td>|Argentina|Buenos Aires Costa Atlántica|Mar de...</td>\n",
              "      <td>64000.00</td>\n",
              "      <td>35.0</td>\n",
              "      <td>35.0</td>\n",
              "      <td>NaN</td>\n",
              "      <td>NaN</td>\n",
              "      <td>NaN</td>\n",
              "    </tr>\n",
              "    <tr>\n",
              "      <th>6</th>\n",
              "      <td>PH</td>\n",
              "      <td>|Argentina|Bs.As. G.B.A. Zona Norte|Vicente Ló...</td>\n",
              "      <td>130000.00</td>\n",
              "      <td>106.0</td>\n",
              "      <td>78.0</td>\n",
              "      <td>NaN</td>\n",
              "      <td>NaN</td>\n",
              "      <td>NaN</td>\n",
              "    </tr>\n",
              "    <tr>\n",
              "      <th>7</th>\n",
              "      <td>apartment</td>\n",
              "      <td>|Argentina|Capital Federal|Belgrano|</td>\n",
              "      <td>138000.00</td>\n",
              "      <td>45.0</td>\n",
              "      <td>40.0</td>\n",
              "      <td>NaN</td>\n",
              "      <td>NaN</td>\n",
              "      <td>NaN</td>\n",
              "    </tr>\n",
              "    <tr>\n",
              "      <th>8</th>\n",
              "      <td>apartment</td>\n",
              "      <td>|Argentina|Capital Federal|Belgrano|</td>\n",
              "      <td>195000.00</td>\n",
              "      <td>65.0</td>\n",
              "      <td>60.0</td>\n",
              "      <td>NaN</td>\n",
              "      <td>NaN</td>\n",
              "      <td>NaN</td>\n",
              "    </tr>\n",
              "    <tr>\n",
              "      <th>9</th>\n",
              "      <td>house</td>\n",
              "      <td>|Argentina|Santa Fe|Rosario|</td>\n",
              "      <td>25798.49</td>\n",
              "      <td>NaN</td>\n",
              "      <td>NaN</td>\n",
              "      <td>NaN</td>\n",
              "      <td>NaN</td>\n",
              "      <td>NaN</td>\n",
              "    </tr>\n",
              "    <tr>\n",
              "      <th>10</th>\n",
              "      <td>house</td>\n",
              "      <td>|Argentina|Córdoba|Córdoba|</td>\n",
              "      <td>70000.00</td>\n",
              "      <td>1514.0</td>\n",
              "      <td>NaN</td>\n",
              "      <td>NaN</td>\n",
              "      <td>NaN</td>\n",
              "      <td>NaN</td>\n",
              "    </tr>\n",
              "  </tbody>\n",
              "</table>\n",
              "</div>\n",
              "      <button class=\"colab-df-convert\" onclick=\"convertToInteractive('df-663b8a43-6a0e-4256-a5ab-0b3d6bc7c671')\"\n",
              "              title=\"Convert this dataframe to an interactive table.\"\n",
              "              style=\"display:none;\">\n",
              "        \n",
              "  <svg xmlns=\"http://www.w3.org/2000/svg\" height=\"24px\"viewBox=\"0 0 24 24\"\n",
              "       width=\"24px\">\n",
              "    <path d=\"M0 0h24v24H0V0z\" fill=\"none\"/>\n",
              "    <path d=\"M18.56 5.44l.94 2.06.94-2.06 2.06-.94-2.06-.94-.94-2.06-.94 2.06-2.06.94zm-11 1L8.5 8.5l.94-2.06 2.06-.94-2.06-.94L8.5 2.5l-.94 2.06-2.06.94zm10 10l.94 2.06.94-2.06 2.06-.94-2.06-.94-.94-2.06-.94 2.06-2.06.94z\"/><path d=\"M17.41 7.96l-1.37-1.37c-.4-.4-.92-.59-1.43-.59-.52 0-1.04.2-1.43.59L10.3 9.45l-7.72 7.72c-.78.78-.78 2.05 0 2.83L4 21.41c.39.39.9.59 1.41.59.51 0 1.02-.2 1.41-.59l7.78-7.78 2.81-2.81c.8-.78.8-2.07 0-2.86zM5.41 20L4 18.59l7.72-7.72 1.47 1.35L5.41 20z\"/>\n",
              "  </svg>\n",
              "      </button>\n",
              "      \n",
              "  <style>\n",
              "    .colab-df-container {\n",
              "      display:flex;\n",
              "      flex-wrap:wrap;\n",
              "      gap: 12px;\n",
              "    }\n",
              "\n",
              "    .colab-df-convert {\n",
              "      background-color: #E8F0FE;\n",
              "      border: none;\n",
              "      border-radius: 50%;\n",
              "      cursor: pointer;\n",
              "      display: none;\n",
              "      fill: #1967D2;\n",
              "      height: 32px;\n",
              "      padding: 0 0 0 0;\n",
              "      width: 32px;\n",
              "    }\n",
              "\n",
              "    .colab-df-convert:hover {\n",
              "      background-color: #E2EBFA;\n",
              "      box-shadow: 0px 1px 2px rgba(60, 64, 67, 0.3), 0px 1px 3px 1px rgba(60, 64, 67, 0.15);\n",
              "      fill: #174EA6;\n",
              "    }\n",
              "\n",
              "    [theme=dark] .colab-df-convert {\n",
              "      background-color: #3B4455;\n",
              "      fill: #D2E3FC;\n",
              "    }\n",
              "\n",
              "    [theme=dark] .colab-df-convert:hover {\n",
              "      background-color: #434B5C;\n",
              "      box-shadow: 0px 1px 3px 1px rgba(0, 0, 0, 0.15);\n",
              "      filter: drop-shadow(0px 1px 2px rgba(0, 0, 0, 0.3));\n",
              "      fill: #FFFFFF;\n",
              "    }\n",
              "  </style>\n",
              "\n",
              "      <script>\n",
              "        const buttonEl =\n",
              "          document.querySelector('#df-663b8a43-6a0e-4256-a5ab-0b3d6bc7c671 button.colab-df-convert');\n",
              "        buttonEl.style.display =\n",
              "          google.colab.kernel.accessAllowed ? 'block' : 'none';\n",
              "\n",
              "        async function convertToInteractive(key) {\n",
              "          const element = document.querySelector('#df-663b8a43-6a0e-4256-a5ab-0b3d6bc7c671');\n",
              "          const dataTable =\n",
              "            await google.colab.kernel.invokeFunction('convertToInteractive',\n",
              "                                                     [key], {});\n",
              "          if (!dataTable) return;\n",
              "\n",
              "          const docLinkHtml = 'Like what you see? Visit the ' +\n",
              "            '<a target=\"_blank\" href=https://colab.research.google.com/notebooks/data_table.ipynb>data table notebook</a>'\n",
              "            + ' to learn more about interactive tables.';\n",
              "          element.innerHTML = '';\n",
              "          dataTable['output_type'] = 'display_data';\n",
              "          await google.colab.output.renderOutput(dataTable, element);\n",
              "          const docLink = document.createElement('div');\n",
              "          docLink.innerHTML = docLinkHtml;\n",
              "          element.appendChild(docLink);\n",
              "        }\n",
              "      </script>\n",
              "    </div>\n",
              "  </div>\n",
              "  "
            ],
            "text/plain": [
              "   property_type  ... expenses\n",
              "0             PH  ...      NaN\n",
              "1      apartment  ...      NaN\n",
              "2      apartment  ...      NaN\n",
              "3             PH  ...      NaN\n",
              "4      apartment  ...      NaN\n",
              "6             PH  ...      NaN\n",
              "7      apartment  ...      NaN\n",
              "8      apartment  ...      NaN\n",
              "9          house  ...      NaN\n",
              "10         house  ...      NaN\n",
              "\n",
              "[10 rows x 8 columns]"
            ]
          },
          "metadata": {},
          "execution_count": 211
        }
      ],
      "source": [
        "df_trabajo = df_con_target.copy()\n",
        "df_trabajo.drop(columns=['Unnamed: 0', 'operation', 'place_name', 'country_name', 'state_name', 'geonames_id',\n",
        "       'lat-lon', 'lat', 'lon', 'price', 'currency', 'price_aprox_local_currency', 'price_usd_per_m2', 'price_per_m2',\n",
        "       'properati_url', 'description', 'title','image_thumbnail'], axis=1, inplace=True)\n",
        "df_trabajo.head(10)"
      ]
    },
    {
      "cell_type": "markdown",
      "metadata": {
        "id": "v0L6fAhf_k3_"
      },
      "source": [
        "## Filtramos los outliers\n"
      ]
    },
    {
      "cell_type": "markdown",
      "source": [
        "Dejamos superficie cubierta <= 50000 (surface_covered_in_m2 <= 50.000)\n"
      ],
      "metadata": {
        "id": "cAn20tQDJaUz"
      }
    },
    {
      "cell_type": "code",
      "execution_count": null,
      "metadata": {
        "id": "pSlxMhhs_oh4"
      },
      "outputs": [],
      "source": [
        "# filtro en el dataset df_trabajo los outlier de surface_covered_in_m2 > 50000\n",
        "df_trabajo = df_trabajo[df_trabajo['surface_covered_in_m2'] <= 50000]"
      ]
    },
    {
      "cell_type": "markdown",
      "source": [
        "Dejamos todas las propiedades que tengan precio en dólares <= 10.000.000 y mayor a 0 (price_aprox_usd)"
      ],
      "metadata": {
        "id": "GJ03N85gJpQd"
      }
    },
    {
      "cell_type": "code",
      "execution_count": null,
      "metadata": {
        "id": "LMFp4fDMAFoP"
      },
      "outputs": [],
      "source": [
        "# elimino las propiedades con price_aprox_usd = 0\n",
        "df_trabajo = df_trabajo[df_trabajo['price_aprox_usd'] > 0]"
      ]
    },
    {
      "cell_type": "code",
      "execution_count": null,
      "metadata": {
        "id": "KKNT8keZ_3ZJ"
      },
      "outputs": [],
      "source": [
        "# filtro en el dataset df_trabajo los outlier de price_aprox_usd > 10.000.000\n",
        "df_trabajo = df_trabajo[df_trabajo['price_aprox_usd'] <= 10000000]"
      ]
    },
    {
      "cell_type": "markdown",
      "metadata": {
        "id": "wCbgniy6-H13"
      },
      "source": [
        "## Imputación"
      ]
    },
    {
      "cell_type": "markdown",
      "metadata": {
        "id": "4aoyC71H-c_I"
      },
      "source": [
        "\n",
        "\n",
        "*   Media de superficie cubierta y superficie total por País-Provincia-Localidad\n",
        "*   Media de superficie cubierta por tipo de propiedad\n",
        "\n"
      ]
    },
    {
      "cell_type": "markdown",
      "source": [
        "Obtenemos un dataframe con la superficie total por País-Provincia-Localidad filtrando los valores nulos para superficie"
      ],
      "metadata": {
        "id": "l5N2E-d1J-dZ"
      }
    },
    {
      "cell_type": "code",
      "execution_count": null,
      "metadata": {
        "id": "OnDcuPTj-ILe",
        "colab": {
          "base_uri": "https://localhost:8080/"
        },
        "outputId": "b141d51d-a098-4709-d55f-22b45cb01b8a"
      },
      "outputs": [
        {
          "output_type": "stream",
          "name": "stdout",
          "text": [
            "<class 'pandas.core.frame.DataFrame'>\n",
            "Int64Index: 63349 entries, 0 to 121219\n",
            "Data columns (total 2 columns):\n",
            " #   Column                   Non-Null Count  Dtype  \n",
            "---  ------                   --------------  -----  \n",
            " 0   place_with_parent_names  63349 non-null  object \n",
            " 1   surface_total_in_m2      63349 non-null  float64\n",
            "dtypes: float64(1), object(1)\n",
            "memory usage: 1.4+ MB\n"
          ]
        }
      ],
      "source": [
        "# df con el place_with_parent_names y surface_total\n",
        "df_place_total_surface = df_trabajo.loc[:, ['place_with_parent_names', 'surface_total_in_m2']].dropna(subset=['surface_total_in_m2'])\n",
        "df_place_total_surface.info()"
      ]
    },
    {
      "cell_type": "markdown",
      "source": [
        "Obtenemos un dataframe con la superficie cubierta por País-Provincia-Localidad filtrando los valores nulos para superficie"
      ],
      "metadata": {
        "id": "63tkqNnxKOAy"
      }
    },
    {
      "cell_type": "code",
      "execution_count": null,
      "metadata": {
        "id": "55fbSroI-2HS",
        "colab": {
          "base_uri": "https://localhost:8080/"
        },
        "outputId": "467ea034-f3ea-41e5-f9f3-9a216bc20c94"
      },
      "outputs": [
        {
          "output_type": "stream",
          "name": "stdout",
          "text": [
            "<class 'pandas.core.frame.DataFrame'>\n",
            "Int64Index: 87656 entries, 0 to 121219\n",
            "Data columns (total 2 columns):\n",
            " #   Column                   Non-Null Count  Dtype  \n",
            "---  ------                   --------------  -----  \n",
            " 0   place_with_parent_names  87656 non-null  object \n",
            " 1   surface_covered_in_m2    87656 non-null  float64\n",
            "dtypes: float64(1), object(1)\n",
            "memory usage: 2.0+ MB\n"
          ]
        }
      ],
      "source": [
        "# df con el place_with_parent_names y surface_covered_in_m2\n",
        "df_place_covered_surface = df_trabajo.loc[:, ['place_with_parent_names', 'surface_covered_in_m2']].dropna(subset=['surface_covered_in_m2'])\n",
        "df_place_covered_surface.info()"
      ]
    },
    {
      "cell_type": "markdown",
      "source": [
        "Obtenemos un dataframe con la superficie cubierta por tipo de propiedad filtrando los valores nulos para superficie"
      ],
      "metadata": {
        "id": "26SMmyusKS6L"
      }
    },
    {
      "cell_type": "code",
      "execution_count": null,
      "metadata": {
        "id": "jMdHMqyk-2zW",
        "colab": {
          "base_uri": "https://localhost:8080/"
        },
        "outputId": "bbb97039-a499-42db-824c-dbb6c1291292"
      },
      "outputs": [
        {
          "output_type": "stream",
          "name": "stdout",
          "text": [
            "<class 'pandas.core.frame.DataFrame'>\n",
            "Int64Index: 87656 entries, 0 to 121219\n",
            "Data columns (total 2 columns):\n",
            " #   Column                 Non-Null Count  Dtype  \n",
            "---  ------                 --------------  -----  \n",
            " 0   property_type          87656 non-null  object \n",
            " 1   surface_covered_in_m2  87656 non-null  float64\n",
            "dtypes: float64(1), object(1)\n",
            "memory usage: 2.0+ MB\n"
          ]
        }
      ],
      "source": [
        "# df con el property_type y surface_covered_in_m2\n",
        "df_property_covered_surface = df_trabajo.loc[:, ['property_type', 'surface_covered_in_m2']].dropna(subset=['surface_covered_in_m2'])\n",
        "df_property_covered_surface.info()"
      ]
    },
    {
      "cell_type": "markdown",
      "source": [
        "Obtenemos un dataframe con la superficie cubierta por tipo de propiedad filtrando los valores nulos para superficie"
      ],
      "metadata": {
        "id": "R8Iw7V0KKaJ1"
      }
    },
    {
      "cell_type": "code",
      "execution_count": null,
      "metadata": {
        "id": "5sEHrQLg-5hN",
        "colab": {
          "base_uri": "https://localhost:8080/"
        },
        "outputId": "80539bb7-25a2-4a11-d22b-347e10dc021d"
      },
      "outputs": [
        {
          "output_type": "stream",
          "name": "stdout",
          "text": [
            "<class 'pandas.core.frame.DataFrame'>\n",
            "Int64Index: 63349 entries, 0 to 121219\n",
            "Data columns (total 2 columns):\n",
            " #   Column               Non-Null Count  Dtype  \n",
            "---  ------               --------------  -----  \n",
            " 0   property_type        63349 non-null  object \n",
            " 1   surface_total_in_m2  63349 non-null  float64\n",
            "dtypes: float64(1), object(1)\n",
            "memory usage: 1.4+ MB\n"
          ]
        }
      ],
      "source": [
        "# df con el property_type y surface_total_in_m2\n",
        "df_property_total_surface = df_trabajo.loc[:, ['property_type', 'surface_total_in_m2']].dropna(subset=['surface_total_in_m2'])\n",
        "df_property_total_surface.info()"
      ]
    },
    {
      "cell_type": "markdown",
      "source": [
        "Calculamos la media de superficie total por País-Provincia-Localidad en un nuevo dataframe"
      ],
      "metadata": {
        "id": "EKAp_-ctKokQ"
      }
    },
    {
      "cell_type": "code",
      "execution_count": null,
      "metadata": {
        "id": "OGDfQHyv-7f3",
        "colab": {
          "base_uri": "https://localhost:8080/",
          "height": 539
        },
        "outputId": "ab1c9fcf-f1e2-4740-a3e9-286a6ba71cdf"
      },
      "outputs": [
        {
          "output_type": "stream",
          "name": "stdout",
          "text": [
            "<class 'pandas.core.frame.DataFrame'>\n",
            "Index: 859 entries, |Argentina|Bs.As. G.B.A. Zona Norte| to |Argentina|Tucumán|Yerba Buena|\n",
            "Data columns (total 1 columns):\n",
            " #   Column               Non-Null Count  Dtype  \n",
            "---  ------               --------------  -----  \n",
            " 0   surface_total_in_m2  859 non-null    float64\n",
            "dtypes: float64(1)\n",
            "memory usage: 13.4+ KB\n"
          ]
        },
        {
          "output_type": "execute_result",
          "data": {
            "text/html": [
              "\n",
              "  <div id=\"df-65adf990-0249-4565-b53b-40a73f486998\">\n",
              "    <div class=\"colab-df-container\">\n",
              "      <div>\n",
              "<style scoped>\n",
              "    .dataframe tbody tr th:only-of-type {\n",
              "        vertical-align: middle;\n",
              "    }\n",
              "\n",
              "    .dataframe tbody tr th {\n",
              "        vertical-align: top;\n",
              "    }\n",
              "\n",
              "    .dataframe thead th {\n",
              "        text-align: right;\n",
              "    }\n",
              "</style>\n",
              "<table border=\"1\" class=\"dataframe\">\n",
              "  <thead>\n",
              "    <tr style=\"text-align: right;\">\n",
              "      <th></th>\n",
              "      <th>surface_total_in_m2</th>\n",
              "    </tr>\n",
              "    <tr>\n",
              "      <th>place_with_parent_names</th>\n",
              "      <th></th>\n",
              "    </tr>\n",
              "  </thead>\n",
              "  <tbody>\n",
              "    <tr>\n",
              "      <th>|Argentina|Bs.As. G.B.A. Zona Norte|</th>\n",
              "      <td>645.088050</td>\n",
              "    </tr>\n",
              "    <tr>\n",
              "      <th>|Argentina|Bs.As. G.B.A. Zona Norte|Escobar|</th>\n",
              "      <td>341.161290</td>\n",
              "    </tr>\n",
              "    <tr>\n",
              "      <th>|Argentina|Bs.As. G.B.A. Zona Norte|Escobar| Country Maschwitz Club|</th>\n",
              "      <td>275.500000</td>\n",
              "    </tr>\n",
              "    <tr>\n",
              "      <th>|Argentina|Bs.As. G.B.A. Zona Norte|Escobar|Acacias Blancas|</th>\n",
              "      <td>238.800000</td>\n",
              "    </tr>\n",
              "    <tr>\n",
              "      <th>|Argentina|Bs.As. G.B.A. Zona Norte|Escobar|Altos de Matheu|</th>\n",
              "      <td>150.000000</td>\n",
              "    </tr>\n",
              "    <tr>\n",
              "      <th>|Argentina|Bs.As. G.B.A. Zona Norte|Escobar|Barrio Acacias|</th>\n",
              "      <td>240.333333</td>\n",
              "    </tr>\n",
              "    <tr>\n",
              "      <th>|Argentina|Bs.As. G.B.A. Zona Norte|Escobar|Barrio Araucarias|</th>\n",
              "      <td>256.250000</td>\n",
              "    </tr>\n",
              "    <tr>\n",
              "      <th>|Argentina|Bs.As. G.B.A. Zona Norte|Escobar|Barrio Cerrado El Lucero|</th>\n",
              "      <td>205.428571</td>\n",
              "    </tr>\n",
              "    <tr>\n",
              "      <th>|Argentina|Bs.As. G.B.A. Zona Norte|Escobar|Barrio Marinas|</th>\n",
              "      <td>247.142857</td>\n",
              "    </tr>\n",
              "    <tr>\n",
              "      <th>|Argentina|Bs.As. G.B.A. Zona Norte|Escobar|Barrio Privado El Recodo  S.A.|</th>\n",
              "      <td>291.428571</td>\n",
              "    </tr>\n",
              "  </tbody>\n",
              "</table>\n",
              "</div>\n",
              "      <button class=\"colab-df-convert\" onclick=\"convertToInteractive('df-65adf990-0249-4565-b53b-40a73f486998')\"\n",
              "              title=\"Convert this dataframe to an interactive table.\"\n",
              "              style=\"display:none;\">\n",
              "        \n",
              "  <svg xmlns=\"http://www.w3.org/2000/svg\" height=\"24px\"viewBox=\"0 0 24 24\"\n",
              "       width=\"24px\">\n",
              "    <path d=\"M0 0h24v24H0V0z\" fill=\"none\"/>\n",
              "    <path d=\"M18.56 5.44l.94 2.06.94-2.06 2.06-.94-2.06-.94-.94-2.06-.94 2.06-2.06.94zm-11 1L8.5 8.5l.94-2.06 2.06-.94-2.06-.94L8.5 2.5l-.94 2.06-2.06.94zm10 10l.94 2.06.94-2.06 2.06-.94-2.06-.94-.94-2.06-.94 2.06-2.06.94z\"/><path d=\"M17.41 7.96l-1.37-1.37c-.4-.4-.92-.59-1.43-.59-.52 0-1.04.2-1.43.59L10.3 9.45l-7.72 7.72c-.78.78-.78 2.05 0 2.83L4 21.41c.39.39.9.59 1.41.59.51 0 1.02-.2 1.41-.59l7.78-7.78 2.81-2.81c.8-.78.8-2.07 0-2.86zM5.41 20L4 18.59l7.72-7.72 1.47 1.35L5.41 20z\"/>\n",
              "  </svg>\n",
              "      </button>\n",
              "      \n",
              "  <style>\n",
              "    .colab-df-container {\n",
              "      display:flex;\n",
              "      flex-wrap:wrap;\n",
              "      gap: 12px;\n",
              "    }\n",
              "\n",
              "    .colab-df-convert {\n",
              "      background-color: #E8F0FE;\n",
              "      border: none;\n",
              "      border-radius: 50%;\n",
              "      cursor: pointer;\n",
              "      display: none;\n",
              "      fill: #1967D2;\n",
              "      height: 32px;\n",
              "      padding: 0 0 0 0;\n",
              "      width: 32px;\n",
              "    }\n",
              "\n",
              "    .colab-df-convert:hover {\n",
              "      background-color: #E2EBFA;\n",
              "      box-shadow: 0px 1px 2px rgba(60, 64, 67, 0.3), 0px 1px 3px 1px rgba(60, 64, 67, 0.15);\n",
              "      fill: #174EA6;\n",
              "    }\n",
              "\n",
              "    [theme=dark] .colab-df-convert {\n",
              "      background-color: #3B4455;\n",
              "      fill: #D2E3FC;\n",
              "    }\n",
              "\n",
              "    [theme=dark] .colab-df-convert:hover {\n",
              "      background-color: #434B5C;\n",
              "      box-shadow: 0px 1px 3px 1px rgba(0, 0, 0, 0.15);\n",
              "      filter: drop-shadow(0px 1px 2px rgba(0, 0, 0, 0.3));\n",
              "      fill: #FFFFFF;\n",
              "    }\n",
              "  </style>\n",
              "\n",
              "      <script>\n",
              "        const buttonEl =\n",
              "          document.querySelector('#df-65adf990-0249-4565-b53b-40a73f486998 button.colab-df-convert');\n",
              "        buttonEl.style.display =\n",
              "          google.colab.kernel.accessAllowed ? 'block' : 'none';\n",
              "\n",
              "        async function convertToInteractive(key) {\n",
              "          const element = document.querySelector('#df-65adf990-0249-4565-b53b-40a73f486998');\n",
              "          const dataTable =\n",
              "            await google.colab.kernel.invokeFunction('convertToInteractive',\n",
              "                                                     [key], {});\n",
              "          if (!dataTable) return;\n",
              "\n",
              "          const docLinkHtml = 'Like what you see? Visit the ' +\n",
              "            '<a target=\"_blank\" href=https://colab.research.google.com/notebooks/data_table.ipynb>data table notebook</a>'\n",
              "            + ' to learn more about interactive tables.';\n",
              "          element.innerHTML = '';\n",
              "          dataTable['output_type'] = 'display_data';\n",
              "          await google.colab.output.renderOutput(dataTable, element);\n",
              "          const docLink = document.createElement('div');\n",
              "          docLink.innerHTML = docLinkHtml;\n",
              "          element.appendChild(docLink);\n",
              "        }\n",
              "      </script>\n",
              "    </div>\n",
              "  </div>\n",
              "  "
            ],
            "text/plain": [
              "                                                    surface_total_in_m2\n",
              "place_with_parent_names                                                \n",
              "|Argentina|Bs.As. G.B.A. Zona Norte|                         645.088050\n",
              "|Argentina|Bs.As. G.B.A. Zona Norte|Escobar|                 341.161290\n",
              "|Argentina|Bs.As. G.B.A. Zona Norte|Escobar| Co...           275.500000\n",
              "|Argentina|Bs.As. G.B.A. Zona Norte|Escobar|Aca...           238.800000\n",
              "|Argentina|Bs.As. G.B.A. Zona Norte|Escobar|Alt...           150.000000\n",
              "|Argentina|Bs.As. G.B.A. Zona Norte|Escobar|Bar...           240.333333\n",
              "|Argentina|Bs.As. G.B.A. Zona Norte|Escobar|Bar...           256.250000\n",
              "|Argentina|Bs.As. G.B.A. Zona Norte|Escobar|Bar...           205.428571\n",
              "|Argentina|Bs.As. G.B.A. Zona Norte|Escobar|Bar...           247.142857\n",
              "|Argentina|Bs.As. G.B.A. Zona Norte|Escobar|Bar...           291.428571"
            ]
          },
          "metadata": {},
          "execution_count": 219
        }
      ],
      "source": [
        "# obtengo la media de surface_total por place_with_parent_names\n",
        "df_place_total_surface_mean = df_place_total_surface.groupby(['place_with_parent_names']).mean()\n",
        "df_place_total_surface_mean.info()\n",
        "df_place_total_surface_mean.head(10)"
      ]
    },
    {
      "cell_type": "markdown",
      "source": [
        "Calculamos la media de superficie cubierta por País-Provincia-Localidad en un nuevo dataframe"
      ],
      "metadata": {
        "id": "CD1W8KegKwsl"
      }
    },
    {
      "cell_type": "code",
      "execution_count": null,
      "metadata": {
        "id": "gajUhLWn-9bS",
        "colab": {
          "base_uri": "https://localhost:8080/",
          "height": 539
        },
        "outputId": "ff415546-1a80-4439-97a4-3d45613da735"
      },
      "outputs": [
        {
          "output_type": "stream",
          "name": "stdout",
          "text": [
            "<class 'pandas.core.frame.DataFrame'>\n",
            "Index: 1005 entries, |Argentina|Bs.As. G.B.A. Zona Norte| to |Argentina|Tucumán|Yerba Buena|\n",
            "Data columns (total 1 columns):\n",
            " #   Column                 Non-Null Count  Dtype  \n",
            "---  ------                 --------------  -----  \n",
            " 0   surface_covered_in_m2  1005 non-null   float64\n",
            "dtypes: float64(1)\n",
            "memory usage: 15.7+ KB\n"
          ]
        },
        {
          "output_type": "execute_result",
          "data": {
            "text/html": [
              "\n",
              "  <div id=\"df-1cdc65e0-3f23-4d59-8ea6-fd6218289381\">\n",
              "    <div class=\"colab-df-container\">\n",
              "      <div>\n",
              "<style scoped>\n",
              "    .dataframe tbody tr th:only-of-type {\n",
              "        vertical-align: middle;\n",
              "    }\n",
              "\n",
              "    .dataframe tbody tr th {\n",
              "        vertical-align: top;\n",
              "    }\n",
              "\n",
              "    .dataframe thead th {\n",
              "        text-align: right;\n",
              "    }\n",
              "</style>\n",
              "<table border=\"1\" class=\"dataframe\">\n",
              "  <thead>\n",
              "    <tr style=\"text-align: right;\">\n",
              "      <th></th>\n",
              "      <th>surface_covered_in_m2</th>\n",
              "    </tr>\n",
              "    <tr>\n",
              "      <th>place_with_parent_names</th>\n",
              "      <th></th>\n",
              "    </tr>\n",
              "  </thead>\n",
              "  <tbody>\n",
              "    <tr>\n",
              "      <th>|Argentina|Bs.As. G.B.A. Zona Norte|</th>\n",
              "      <td>200.819149</td>\n",
              "    </tr>\n",
              "    <tr>\n",
              "      <th>|Argentina|Bs.As. G.B.A. Zona Norte|Escobar|</th>\n",
              "      <td>181.563158</td>\n",
              "    </tr>\n",
              "    <tr>\n",
              "      <th>|Argentina|Bs.As. G.B.A. Zona Norte|Escobar| Country Maschwitz Club|</th>\n",
              "      <td>241.666667</td>\n",
              "    </tr>\n",
              "    <tr>\n",
              "      <th>|Argentina|Bs.As. G.B.A. Zona Norte|Escobar|Acacias Blancas|</th>\n",
              "      <td>210.212121</td>\n",
              "    </tr>\n",
              "    <tr>\n",
              "      <th>|Argentina|Bs.As. G.B.A. Zona Norte|Escobar|Altos de Matheu|</th>\n",
              "      <td>150.000000</td>\n",
              "    </tr>\n",
              "    <tr>\n",
              "      <th>|Argentina|Bs.As. G.B.A. Zona Norte|Escobar|Barrio Acacias|</th>\n",
              "      <td>184.666667</td>\n",
              "    </tr>\n",
              "    <tr>\n",
              "      <th>|Argentina|Bs.As. G.B.A. Zona Norte|Escobar|Barrio Alamo Alto|</th>\n",
              "      <td>135.000000</td>\n",
              "    </tr>\n",
              "    <tr>\n",
              "      <th>|Argentina|Bs.As. G.B.A. Zona Norte|Escobar|Barrio Araucarias|</th>\n",
              "      <td>199.750000</td>\n",
              "    </tr>\n",
              "    <tr>\n",
              "      <th>|Argentina|Bs.As. G.B.A. Zona Norte|Escobar|Barrio Ceibos|</th>\n",
              "      <td>215.666667</td>\n",
              "    </tr>\n",
              "    <tr>\n",
              "      <th>|Argentina|Bs.As. G.B.A. Zona Norte|Escobar|Barrio Cerrado \"El Aromo\"|</th>\n",
              "      <td>164.000000</td>\n",
              "    </tr>\n",
              "  </tbody>\n",
              "</table>\n",
              "</div>\n",
              "      <button class=\"colab-df-convert\" onclick=\"convertToInteractive('df-1cdc65e0-3f23-4d59-8ea6-fd6218289381')\"\n",
              "              title=\"Convert this dataframe to an interactive table.\"\n",
              "              style=\"display:none;\">\n",
              "        \n",
              "  <svg xmlns=\"http://www.w3.org/2000/svg\" height=\"24px\"viewBox=\"0 0 24 24\"\n",
              "       width=\"24px\">\n",
              "    <path d=\"M0 0h24v24H0V0z\" fill=\"none\"/>\n",
              "    <path d=\"M18.56 5.44l.94 2.06.94-2.06 2.06-.94-2.06-.94-.94-2.06-.94 2.06-2.06.94zm-11 1L8.5 8.5l.94-2.06 2.06-.94-2.06-.94L8.5 2.5l-.94 2.06-2.06.94zm10 10l.94 2.06.94-2.06 2.06-.94-2.06-.94-.94-2.06-.94 2.06-2.06.94z\"/><path d=\"M17.41 7.96l-1.37-1.37c-.4-.4-.92-.59-1.43-.59-.52 0-1.04.2-1.43.59L10.3 9.45l-7.72 7.72c-.78.78-.78 2.05 0 2.83L4 21.41c.39.39.9.59 1.41.59.51 0 1.02-.2 1.41-.59l7.78-7.78 2.81-2.81c.8-.78.8-2.07 0-2.86zM5.41 20L4 18.59l7.72-7.72 1.47 1.35L5.41 20z\"/>\n",
              "  </svg>\n",
              "      </button>\n",
              "      \n",
              "  <style>\n",
              "    .colab-df-container {\n",
              "      display:flex;\n",
              "      flex-wrap:wrap;\n",
              "      gap: 12px;\n",
              "    }\n",
              "\n",
              "    .colab-df-convert {\n",
              "      background-color: #E8F0FE;\n",
              "      border: none;\n",
              "      border-radius: 50%;\n",
              "      cursor: pointer;\n",
              "      display: none;\n",
              "      fill: #1967D2;\n",
              "      height: 32px;\n",
              "      padding: 0 0 0 0;\n",
              "      width: 32px;\n",
              "    }\n",
              "\n",
              "    .colab-df-convert:hover {\n",
              "      background-color: #E2EBFA;\n",
              "      box-shadow: 0px 1px 2px rgba(60, 64, 67, 0.3), 0px 1px 3px 1px rgba(60, 64, 67, 0.15);\n",
              "      fill: #174EA6;\n",
              "    }\n",
              "\n",
              "    [theme=dark] .colab-df-convert {\n",
              "      background-color: #3B4455;\n",
              "      fill: #D2E3FC;\n",
              "    }\n",
              "\n",
              "    [theme=dark] .colab-df-convert:hover {\n",
              "      background-color: #434B5C;\n",
              "      box-shadow: 0px 1px 3px 1px rgba(0, 0, 0, 0.15);\n",
              "      filter: drop-shadow(0px 1px 2px rgba(0, 0, 0, 0.3));\n",
              "      fill: #FFFFFF;\n",
              "    }\n",
              "  </style>\n",
              "\n",
              "      <script>\n",
              "        const buttonEl =\n",
              "          document.querySelector('#df-1cdc65e0-3f23-4d59-8ea6-fd6218289381 button.colab-df-convert');\n",
              "        buttonEl.style.display =\n",
              "          google.colab.kernel.accessAllowed ? 'block' : 'none';\n",
              "\n",
              "        async function convertToInteractive(key) {\n",
              "          const element = document.querySelector('#df-1cdc65e0-3f23-4d59-8ea6-fd6218289381');\n",
              "          const dataTable =\n",
              "            await google.colab.kernel.invokeFunction('convertToInteractive',\n",
              "                                                     [key], {});\n",
              "          if (!dataTable) return;\n",
              "\n",
              "          const docLinkHtml = 'Like what you see? Visit the ' +\n",
              "            '<a target=\"_blank\" href=https://colab.research.google.com/notebooks/data_table.ipynb>data table notebook</a>'\n",
              "            + ' to learn more about interactive tables.';\n",
              "          element.innerHTML = '';\n",
              "          dataTable['output_type'] = 'display_data';\n",
              "          await google.colab.output.renderOutput(dataTable, element);\n",
              "          const docLink = document.createElement('div');\n",
              "          docLink.innerHTML = docLinkHtml;\n",
              "          element.appendChild(docLink);\n",
              "        }\n",
              "      </script>\n",
              "    </div>\n",
              "  </div>\n",
              "  "
            ],
            "text/plain": [
              "                                                    surface_covered_in_m2\n",
              "place_with_parent_names                                                  \n",
              "|Argentina|Bs.As. G.B.A. Zona Norte|                           200.819149\n",
              "|Argentina|Bs.As. G.B.A. Zona Norte|Escobar|                   181.563158\n",
              "|Argentina|Bs.As. G.B.A. Zona Norte|Escobar| Co...             241.666667\n",
              "|Argentina|Bs.As. G.B.A. Zona Norte|Escobar|Aca...             210.212121\n",
              "|Argentina|Bs.As. G.B.A. Zona Norte|Escobar|Alt...             150.000000\n",
              "|Argentina|Bs.As. G.B.A. Zona Norte|Escobar|Bar...             184.666667\n",
              "|Argentina|Bs.As. G.B.A. Zona Norte|Escobar|Bar...             135.000000\n",
              "|Argentina|Bs.As. G.B.A. Zona Norte|Escobar|Bar...             199.750000\n",
              "|Argentina|Bs.As. G.B.A. Zona Norte|Escobar|Bar...             215.666667\n",
              "|Argentina|Bs.As. G.B.A. Zona Norte|Escobar|Bar...             164.000000"
            ]
          },
          "metadata": {},
          "execution_count": 220
        }
      ],
      "source": [
        "# obtengo la media de surface_covered por place_with_parent_names\n",
        "df_place_covered_surface_mean = df_place_covered_surface.groupby(['place_with_parent_names']).mean()\n",
        "df_place_covered_surface_mean.info()\n",
        "df_place_covered_surface_mean.head(10)"
      ]
    },
    {
      "cell_type": "markdown",
      "source": [
        "Calculamos la media de superficie total por tipo de propiedad en un nuevo dataframe"
      ],
      "metadata": {
        "id": "C1pioWmqK0Ld"
      }
    },
    {
      "cell_type": "code",
      "execution_count": null,
      "metadata": {
        "colab": {
          "base_uri": "https://localhost:8080/",
          "height": 351
        },
        "id": "47yEJ7CI-_PT",
        "outputId": "b30fe166-2d94-4a8a-b88a-6506a04c2e20"
      },
      "outputs": [
        {
          "output_type": "stream",
          "name": "stdout",
          "text": [
            "<class 'pandas.core.frame.DataFrame'>\n",
            "Index: 4 entries, PH to store\n",
            "Data columns (total 1 columns):\n",
            " #   Column               Non-Null Count  Dtype  \n",
            "---  ------               --------------  -----  \n",
            " 0   surface_total_in_m2  4 non-null      float64\n",
            "dtypes: float64(1)\n",
            "memory usage: 64.0+ bytes\n"
          ]
        },
        {
          "output_type": "execute_result",
          "data": {
            "text/html": [
              "\n",
              "  <div id=\"df-86623311-2a94-4fe8-b905-5682f0c78a5a\">\n",
              "    <div class=\"colab-df-container\">\n",
              "      <div>\n",
              "<style scoped>\n",
              "    .dataframe tbody tr th:only-of-type {\n",
              "        vertical-align: middle;\n",
              "    }\n",
              "\n",
              "    .dataframe tbody tr th {\n",
              "        vertical-align: top;\n",
              "    }\n",
              "\n",
              "    .dataframe thead th {\n",
              "        text-align: right;\n",
              "    }\n",
              "</style>\n",
              "<table border=\"1\" class=\"dataframe\">\n",
              "  <thead>\n",
              "    <tr style=\"text-align: right;\">\n",
              "      <th></th>\n",
              "      <th>surface_total_in_m2</th>\n",
              "    </tr>\n",
              "    <tr>\n",
              "      <th>property_type</th>\n",
              "      <th></th>\n",
              "    </tr>\n",
              "  </thead>\n",
              "  <tbody>\n",
              "    <tr>\n",
              "      <th>PH</th>\n",
              "      <td>116.847905</td>\n",
              "    </tr>\n",
              "    <tr>\n",
              "      <th>apartment</th>\n",
              "      <td>89.524837</td>\n",
              "    </tr>\n",
              "    <tr>\n",
              "      <th>house</th>\n",
              "      <td>491.820826</td>\n",
              "    </tr>\n",
              "    <tr>\n",
              "      <th>store</th>\n",
              "      <td>473.198980</td>\n",
              "    </tr>\n",
              "  </tbody>\n",
              "</table>\n",
              "</div>\n",
              "      <button class=\"colab-df-convert\" onclick=\"convertToInteractive('df-86623311-2a94-4fe8-b905-5682f0c78a5a')\"\n",
              "              title=\"Convert this dataframe to an interactive table.\"\n",
              "              style=\"display:none;\">\n",
              "        \n",
              "  <svg xmlns=\"http://www.w3.org/2000/svg\" height=\"24px\"viewBox=\"0 0 24 24\"\n",
              "       width=\"24px\">\n",
              "    <path d=\"M0 0h24v24H0V0z\" fill=\"none\"/>\n",
              "    <path d=\"M18.56 5.44l.94 2.06.94-2.06 2.06-.94-2.06-.94-.94-2.06-.94 2.06-2.06.94zm-11 1L8.5 8.5l.94-2.06 2.06-.94-2.06-.94L8.5 2.5l-.94 2.06-2.06.94zm10 10l.94 2.06.94-2.06 2.06-.94-2.06-.94-.94-2.06-.94 2.06-2.06.94z\"/><path d=\"M17.41 7.96l-1.37-1.37c-.4-.4-.92-.59-1.43-.59-.52 0-1.04.2-1.43.59L10.3 9.45l-7.72 7.72c-.78.78-.78 2.05 0 2.83L4 21.41c.39.39.9.59 1.41.59.51 0 1.02-.2 1.41-.59l7.78-7.78 2.81-2.81c.8-.78.8-2.07 0-2.86zM5.41 20L4 18.59l7.72-7.72 1.47 1.35L5.41 20z\"/>\n",
              "  </svg>\n",
              "      </button>\n",
              "      \n",
              "  <style>\n",
              "    .colab-df-container {\n",
              "      display:flex;\n",
              "      flex-wrap:wrap;\n",
              "      gap: 12px;\n",
              "    }\n",
              "\n",
              "    .colab-df-convert {\n",
              "      background-color: #E8F0FE;\n",
              "      border: none;\n",
              "      border-radius: 50%;\n",
              "      cursor: pointer;\n",
              "      display: none;\n",
              "      fill: #1967D2;\n",
              "      height: 32px;\n",
              "      padding: 0 0 0 0;\n",
              "      width: 32px;\n",
              "    }\n",
              "\n",
              "    .colab-df-convert:hover {\n",
              "      background-color: #E2EBFA;\n",
              "      box-shadow: 0px 1px 2px rgba(60, 64, 67, 0.3), 0px 1px 3px 1px rgba(60, 64, 67, 0.15);\n",
              "      fill: #174EA6;\n",
              "    }\n",
              "\n",
              "    [theme=dark] .colab-df-convert {\n",
              "      background-color: #3B4455;\n",
              "      fill: #D2E3FC;\n",
              "    }\n",
              "\n",
              "    [theme=dark] .colab-df-convert:hover {\n",
              "      background-color: #434B5C;\n",
              "      box-shadow: 0px 1px 3px 1px rgba(0, 0, 0, 0.15);\n",
              "      filter: drop-shadow(0px 1px 2px rgba(0, 0, 0, 0.3));\n",
              "      fill: #FFFFFF;\n",
              "    }\n",
              "  </style>\n",
              "\n",
              "      <script>\n",
              "        const buttonEl =\n",
              "          document.querySelector('#df-86623311-2a94-4fe8-b905-5682f0c78a5a button.colab-df-convert');\n",
              "        buttonEl.style.display =\n",
              "          google.colab.kernel.accessAllowed ? 'block' : 'none';\n",
              "\n",
              "        async function convertToInteractive(key) {\n",
              "          const element = document.querySelector('#df-86623311-2a94-4fe8-b905-5682f0c78a5a');\n",
              "          const dataTable =\n",
              "            await google.colab.kernel.invokeFunction('convertToInteractive',\n",
              "                                                     [key], {});\n",
              "          if (!dataTable) return;\n",
              "\n",
              "          const docLinkHtml = 'Like what you see? Visit the ' +\n",
              "            '<a target=\"_blank\" href=https://colab.research.google.com/notebooks/data_table.ipynb>data table notebook</a>'\n",
              "            + ' to learn more about interactive tables.';\n",
              "          element.innerHTML = '';\n",
              "          dataTable['output_type'] = 'display_data';\n",
              "          await google.colab.output.renderOutput(dataTable, element);\n",
              "          const docLink = document.createElement('div');\n",
              "          docLink.innerHTML = docLinkHtml;\n",
              "          element.appendChild(docLink);\n",
              "        }\n",
              "      </script>\n",
              "    </div>\n",
              "  </div>\n",
              "  "
            ],
            "text/plain": [
              "               surface_total_in_m2\n",
              "property_type                     \n",
              "PH                      116.847905\n",
              "apartment                89.524837\n",
              "house                   491.820826\n",
              "store                   473.198980"
            ]
          },
          "metadata": {},
          "execution_count": 221
        }
      ],
      "source": [
        "# obtengo la media de surface_total por property_type\n",
        "df_property_total_surface_mean = df_property_total_surface.groupby(['property_type']).mean()\n",
        "df_property_total_surface_mean.info()\n",
        "df_property_total_surface_mean.head(10)"
      ]
    },
    {
      "cell_type": "markdown",
      "source": [
        "Calculamos la media de superficie cubierta por tipo de propiedad en un nuevo dataframe"
      ],
      "metadata": {
        "id": "abs_2K9QK3tB"
      }
    },
    {
      "cell_type": "code",
      "execution_count": null,
      "metadata": {
        "colab": {
          "base_uri": "https://localhost:8080/",
          "height": 351
        },
        "id": "DmB-A4FD_BCr",
        "outputId": "b6f1214a-62f9-43c5-a177-5ff0fbbde004"
      },
      "outputs": [
        {
          "output_type": "stream",
          "name": "stdout",
          "text": [
            "<class 'pandas.core.frame.DataFrame'>\n",
            "Index: 4 entries, PH to store\n",
            "Data columns (total 1 columns):\n",
            " #   Column                 Non-Null Count  Dtype  \n",
            "---  ------                 --------------  -----  \n",
            " 0   surface_covered_in_m2  4 non-null      float64\n",
            "dtypes: float64(1)\n",
            "memory usage: 64.0+ bytes\n"
          ]
        },
        {
          "output_type": "execute_result",
          "data": {
            "text/html": [
              "\n",
              "  <div id=\"df-225c1031-2ebb-4894-81eb-97c52509d644\">\n",
              "    <div class=\"colab-df-container\">\n",
              "      <div>\n",
              "<style scoped>\n",
              "    .dataframe tbody tr th:only-of-type {\n",
              "        vertical-align: middle;\n",
              "    }\n",
              "\n",
              "    .dataframe tbody tr th {\n",
              "        vertical-align: top;\n",
              "    }\n",
              "\n",
              "    .dataframe thead th {\n",
              "        text-align: right;\n",
              "    }\n",
              "</style>\n",
              "<table border=\"1\" class=\"dataframe\">\n",
              "  <thead>\n",
              "    <tr style=\"text-align: right;\">\n",
              "      <th></th>\n",
              "      <th>surface_covered_in_m2</th>\n",
              "    </tr>\n",
              "    <tr>\n",
              "      <th>property_type</th>\n",
              "      <th></th>\n",
              "    </tr>\n",
              "  </thead>\n",
              "  <tbody>\n",
              "    <tr>\n",
              "      <th>PH</th>\n",
              "      <td>88.151142</td>\n",
              "    </tr>\n",
              "    <tr>\n",
              "      <th>apartment</th>\n",
              "      <td>70.623412</td>\n",
              "    </tr>\n",
              "    <tr>\n",
              "      <th>house</th>\n",
              "      <td>216.538025</td>\n",
              "    </tr>\n",
              "    <tr>\n",
              "      <th>store</th>\n",
              "      <td>360.105510</td>\n",
              "    </tr>\n",
              "  </tbody>\n",
              "</table>\n",
              "</div>\n",
              "      <button class=\"colab-df-convert\" onclick=\"convertToInteractive('df-225c1031-2ebb-4894-81eb-97c52509d644')\"\n",
              "              title=\"Convert this dataframe to an interactive table.\"\n",
              "              style=\"display:none;\">\n",
              "        \n",
              "  <svg xmlns=\"http://www.w3.org/2000/svg\" height=\"24px\"viewBox=\"0 0 24 24\"\n",
              "       width=\"24px\">\n",
              "    <path d=\"M0 0h24v24H0V0z\" fill=\"none\"/>\n",
              "    <path d=\"M18.56 5.44l.94 2.06.94-2.06 2.06-.94-2.06-.94-.94-2.06-.94 2.06-2.06.94zm-11 1L8.5 8.5l.94-2.06 2.06-.94-2.06-.94L8.5 2.5l-.94 2.06-2.06.94zm10 10l.94 2.06.94-2.06 2.06-.94-2.06-.94-.94-2.06-.94 2.06-2.06.94z\"/><path d=\"M17.41 7.96l-1.37-1.37c-.4-.4-.92-.59-1.43-.59-.52 0-1.04.2-1.43.59L10.3 9.45l-7.72 7.72c-.78.78-.78 2.05 0 2.83L4 21.41c.39.39.9.59 1.41.59.51 0 1.02-.2 1.41-.59l7.78-7.78 2.81-2.81c.8-.78.8-2.07 0-2.86zM5.41 20L4 18.59l7.72-7.72 1.47 1.35L5.41 20z\"/>\n",
              "  </svg>\n",
              "      </button>\n",
              "      \n",
              "  <style>\n",
              "    .colab-df-container {\n",
              "      display:flex;\n",
              "      flex-wrap:wrap;\n",
              "      gap: 12px;\n",
              "    }\n",
              "\n",
              "    .colab-df-convert {\n",
              "      background-color: #E8F0FE;\n",
              "      border: none;\n",
              "      border-radius: 50%;\n",
              "      cursor: pointer;\n",
              "      display: none;\n",
              "      fill: #1967D2;\n",
              "      height: 32px;\n",
              "      padding: 0 0 0 0;\n",
              "      width: 32px;\n",
              "    }\n",
              "\n",
              "    .colab-df-convert:hover {\n",
              "      background-color: #E2EBFA;\n",
              "      box-shadow: 0px 1px 2px rgba(60, 64, 67, 0.3), 0px 1px 3px 1px rgba(60, 64, 67, 0.15);\n",
              "      fill: #174EA6;\n",
              "    }\n",
              "\n",
              "    [theme=dark] .colab-df-convert {\n",
              "      background-color: #3B4455;\n",
              "      fill: #D2E3FC;\n",
              "    }\n",
              "\n",
              "    [theme=dark] .colab-df-convert:hover {\n",
              "      background-color: #434B5C;\n",
              "      box-shadow: 0px 1px 3px 1px rgba(0, 0, 0, 0.15);\n",
              "      filter: drop-shadow(0px 1px 2px rgba(0, 0, 0, 0.3));\n",
              "      fill: #FFFFFF;\n",
              "    }\n",
              "  </style>\n",
              "\n",
              "      <script>\n",
              "        const buttonEl =\n",
              "          document.querySelector('#df-225c1031-2ebb-4894-81eb-97c52509d644 button.colab-df-convert');\n",
              "        buttonEl.style.display =\n",
              "          google.colab.kernel.accessAllowed ? 'block' : 'none';\n",
              "\n",
              "        async function convertToInteractive(key) {\n",
              "          const element = document.querySelector('#df-225c1031-2ebb-4894-81eb-97c52509d644');\n",
              "          const dataTable =\n",
              "            await google.colab.kernel.invokeFunction('convertToInteractive',\n",
              "                                                     [key], {});\n",
              "          if (!dataTable) return;\n",
              "\n",
              "          const docLinkHtml = 'Like what you see? Visit the ' +\n",
              "            '<a target=\"_blank\" href=https://colab.research.google.com/notebooks/data_table.ipynb>data table notebook</a>'\n",
              "            + ' to learn more about interactive tables.';\n",
              "          element.innerHTML = '';\n",
              "          dataTable['output_type'] = 'display_data';\n",
              "          await google.colab.output.renderOutput(dataTable, element);\n",
              "          const docLink = document.createElement('div');\n",
              "          docLink.innerHTML = docLinkHtml;\n",
              "          element.appendChild(docLink);\n",
              "        }\n",
              "      </script>\n",
              "    </div>\n",
              "  </div>\n",
              "  "
            ],
            "text/plain": [
              "               surface_covered_in_m2\n",
              "property_type                       \n",
              "PH                         88.151142\n",
              "apartment                  70.623412\n",
              "house                     216.538025\n",
              "store                     360.105510"
            ]
          },
          "metadata": {},
          "execution_count": 222
        }
      ],
      "source": [
        "# obtengo la media de surface_covered por property_type\n",
        "df_property_covered_surface_mean = df_property_covered_surface.groupby(['property_type']).mean()\n",
        "df_property_covered_surface_mean.info()\n",
        "df_property_covered_surface_mean.head(10)"
      ]
    },
    {
      "cell_type": "markdown",
      "source": [
        "Cramos un nuevo dataframe con el merge de los dataframe de superficie cubierta y total por tipo de propiedad, y le agregamos una nueva columna con la relación superficie cubierta / superficie total"
      ],
      "metadata": {
        "id": "UmD3UEEVK8U6"
      }
    },
    {
      "cell_type": "code",
      "execution_count": null,
      "metadata": {
        "colab": {
          "base_uri": "https://localhost:8080/",
          "height": 387
        },
        "id": "zrzcmvPY_DW5",
        "outputId": "d7c4234d-f3f4-4db5-d925-49431496c842"
      },
      "outputs": [
        {
          "output_type": "stream",
          "name": "stdout",
          "text": [
            "<class 'pandas.core.frame.DataFrame'>\n",
            "Index: 4 entries, PH to store\n",
            "Data columns (total 3 columns):\n",
            " #   Column                 Non-Null Count  Dtype  \n",
            "---  ------                 --------------  -----  \n",
            " 0   surface_covered_in_m2  4 non-null      float64\n",
            " 1   surface_total_in_m2    4 non-null      float64\n",
            " 2   relation               4 non-null      float64\n",
            "dtypes: float64(3)\n",
            "memory usage: 128.0+ bytes\n"
          ]
        },
        {
          "output_type": "execute_result",
          "data": {
            "text/html": [
              "\n",
              "  <div id=\"df-82d5eb51-fb31-456e-a00a-93d28fd667cd\">\n",
              "    <div class=\"colab-df-container\">\n",
              "      <div>\n",
              "<style scoped>\n",
              "    .dataframe tbody tr th:only-of-type {\n",
              "        vertical-align: middle;\n",
              "    }\n",
              "\n",
              "    .dataframe tbody tr th {\n",
              "        vertical-align: top;\n",
              "    }\n",
              "\n",
              "    .dataframe thead th {\n",
              "        text-align: right;\n",
              "    }\n",
              "</style>\n",
              "<table border=\"1\" class=\"dataframe\">\n",
              "  <thead>\n",
              "    <tr style=\"text-align: right;\">\n",
              "      <th></th>\n",
              "      <th>surface_covered_in_m2</th>\n",
              "      <th>surface_total_in_m2</th>\n",
              "      <th>relation</th>\n",
              "    </tr>\n",
              "    <tr>\n",
              "      <th>property_type</th>\n",
              "      <th></th>\n",
              "      <th></th>\n",
              "      <th></th>\n",
              "    </tr>\n",
              "  </thead>\n",
              "  <tbody>\n",
              "    <tr>\n",
              "      <th>PH</th>\n",
              "      <td>88.151142</td>\n",
              "      <td>116.847905</td>\n",
              "      <td>0.754409</td>\n",
              "    </tr>\n",
              "    <tr>\n",
              "      <th>apartment</th>\n",
              "      <td>70.623412</td>\n",
              "      <td>89.524837</td>\n",
              "      <td>0.788869</td>\n",
              "    </tr>\n",
              "    <tr>\n",
              "      <th>house</th>\n",
              "      <td>216.538025</td>\n",
              "      <td>491.820826</td>\n",
              "      <td>0.440278</td>\n",
              "    </tr>\n",
              "    <tr>\n",
              "      <th>store</th>\n",
              "      <td>360.105510</td>\n",
              "      <td>473.198980</td>\n",
              "      <td>0.761002</td>\n",
              "    </tr>\n",
              "  </tbody>\n",
              "</table>\n",
              "</div>\n",
              "      <button class=\"colab-df-convert\" onclick=\"convertToInteractive('df-82d5eb51-fb31-456e-a00a-93d28fd667cd')\"\n",
              "              title=\"Convert this dataframe to an interactive table.\"\n",
              "              style=\"display:none;\">\n",
              "        \n",
              "  <svg xmlns=\"http://www.w3.org/2000/svg\" height=\"24px\"viewBox=\"0 0 24 24\"\n",
              "       width=\"24px\">\n",
              "    <path d=\"M0 0h24v24H0V0z\" fill=\"none\"/>\n",
              "    <path d=\"M18.56 5.44l.94 2.06.94-2.06 2.06-.94-2.06-.94-.94-2.06-.94 2.06-2.06.94zm-11 1L8.5 8.5l.94-2.06 2.06-.94-2.06-.94L8.5 2.5l-.94 2.06-2.06.94zm10 10l.94 2.06.94-2.06 2.06-.94-2.06-.94-.94-2.06-.94 2.06-2.06.94z\"/><path d=\"M17.41 7.96l-1.37-1.37c-.4-.4-.92-.59-1.43-.59-.52 0-1.04.2-1.43.59L10.3 9.45l-7.72 7.72c-.78.78-.78 2.05 0 2.83L4 21.41c.39.39.9.59 1.41.59.51 0 1.02-.2 1.41-.59l7.78-7.78 2.81-2.81c.8-.78.8-2.07 0-2.86zM5.41 20L4 18.59l7.72-7.72 1.47 1.35L5.41 20z\"/>\n",
              "  </svg>\n",
              "      </button>\n",
              "      \n",
              "  <style>\n",
              "    .colab-df-container {\n",
              "      display:flex;\n",
              "      flex-wrap:wrap;\n",
              "      gap: 12px;\n",
              "    }\n",
              "\n",
              "    .colab-df-convert {\n",
              "      background-color: #E8F0FE;\n",
              "      border: none;\n",
              "      border-radius: 50%;\n",
              "      cursor: pointer;\n",
              "      display: none;\n",
              "      fill: #1967D2;\n",
              "      height: 32px;\n",
              "      padding: 0 0 0 0;\n",
              "      width: 32px;\n",
              "    }\n",
              "\n",
              "    .colab-df-convert:hover {\n",
              "      background-color: #E2EBFA;\n",
              "      box-shadow: 0px 1px 2px rgba(60, 64, 67, 0.3), 0px 1px 3px 1px rgba(60, 64, 67, 0.15);\n",
              "      fill: #174EA6;\n",
              "    }\n",
              "\n",
              "    [theme=dark] .colab-df-convert {\n",
              "      background-color: #3B4455;\n",
              "      fill: #D2E3FC;\n",
              "    }\n",
              "\n",
              "    [theme=dark] .colab-df-convert:hover {\n",
              "      background-color: #434B5C;\n",
              "      box-shadow: 0px 1px 3px 1px rgba(0, 0, 0, 0.15);\n",
              "      filter: drop-shadow(0px 1px 2px rgba(0, 0, 0, 0.3));\n",
              "      fill: #FFFFFF;\n",
              "    }\n",
              "  </style>\n",
              "\n",
              "      <script>\n",
              "        const buttonEl =\n",
              "          document.querySelector('#df-82d5eb51-fb31-456e-a00a-93d28fd667cd button.colab-df-convert');\n",
              "        buttonEl.style.display =\n",
              "          google.colab.kernel.accessAllowed ? 'block' : 'none';\n",
              "\n",
              "        async function convertToInteractive(key) {\n",
              "          const element = document.querySelector('#df-82d5eb51-fb31-456e-a00a-93d28fd667cd');\n",
              "          const dataTable =\n",
              "            await google.colab.kernel.invokeFunction('convertToInteractive',\n",
              "                                                     [key], {});\n",
              "          if (!dataTable) return;\n",
              "\n",
              "          const docLinkHtml = 'Like what you see? Visit the ' +\n",
              "            '<a target=\"_blank\" href=https://colab.research.google.com/notebooks/data_table.ipynb>data table notebook</a>'\n",
              "            + ' to learn more about interactive tables.';\n",
              "          element.innerHTML = '';\n",
              "          dataTable['output_type'] = 'display_data';\n",
              "          await google.colab.output.renderOutput(dataTable, element);\n",
              "          const docLink = document.createElement('div');\n",
              "          docLink.innerHTML = docLinkHtml;\n",
              "          element.appendChild(docLink);\n",
              "        }\n",
              "      </script>\n",
              "    </div>\n",
              "  </div>\n",
              "  "
            ],
            "text/plain": [
              "               surface_covered_in_m2  surface_total_in_m2  relation\n",
              "property_type                                                      \n",
              "PH                         88.151142           116.847905  0.754409\n",
              "apartment                  70.623412            89.524837  0.788869\n",
              "house                     216.538025           491.820826  0.440278\n",
              "store                     360.105510           473.198980  0.761002"
            ]
          },
          "metadata": {},
          "execution_count": 223
        }
      ],
      "source": [
        "# obtendo un df con la relación surface_covered / surface_total por property_type\n",
        "df_property_relation_covered = pd.merge(left=df_property_covered_surface_mean, right=df_property_total_surface_mean, left_on='property_type', right_on='property_type')\n",
        "\n",
        "df_property_relation_covered['relation'] = df_property_relation_covered.apply(\n",
        "    lambda row: row.surface_covered_in_m2 / row.surface_total_in_m2, axis=1)\n",
        "\n",
        "df_property_relation_covered.info()\n",
        "df_property_relation_covered.head(10)"
      ]
    },
    {
      "cell_type": "markdown",
      "source": [
        "Hacemos la imputación de los valores nulos de superficie total y superficie cubierta usando la media por País-Provincia-Localidad que calculamos previamente.\n",
        "Si no pudimos imputar la superficie cubierta con la media, pero sí tenemos superficie total (original o calculada), imputamos la superficie cubierta usando la relación superficie cubierta / superficie total por tipo de propiedad que habíamos calculado anteriormente."
      ],
      "metadata": {
        "id": "IEL4NX7BLLsy"
      }
    },
    {
      "cell_type": "code",
      "execution_count": null,
      "metadata": {
        "id": "kCMjFri4_J4D"
      },
      "outputs": [],
      "source": [
        "df_trabajo2 = df_trabajo.copy()\n",
        "\n",
        "# reemplazo en df_trabajo los null de surface_covered_in_m2 y surface_toal_in_m2 por la media del place_with_parent_names\n",
        "for i in range(0,df_trabajo2.shape[0]):\n",
        "  \n",
        "  # reemplazo NaN surface_total_in_m2 por la media de place_with_parent_names\n",
        "  if math.isnan(df_trabajo2.iloc[i, 3]) and df_trabajo2.iloc[i, 1] in df_place_total_surface_mean.index:    \n",
        "    df_trabajo2.iloc[i, 3] = df_place_total_surface_mean.loc[df_trabajo2.iloc[i, 1]][0]\n",
        "\n",
        "  # reemplazo NaN surface_covered_in_m2 por la media de place_with_parent_names\n",
        "  if math.isnan(df_trabajo2.iloc[i, 4]) and df_trabajo2.iloc[i, 1] in df_place_covered_surface_mean.index:\n",
        "    df_trabajo2.iloc[i, 4] = df_place_covered_surface_mean.loc[df_trabajo2.iloc[i, 1]][0]\n",
        "  \n",
        "  # si surface_covered_in_m2 es NaN pero tengo surface_total_in_m2 aplico la proporcion por property_type\n",
        "  if math.isnan(df_trabajo2.iloc[i, 4]) and not(math.isnan(df_trabajo2.iloc[i, 3])) and df_trabajo2.iloc[i,0] in df_property_relation_covered.index:  \n",
        "    df_trabajo2.iloc[i, 4] = df_trabajo2.iloc[i, 3] * df_property_relation_covered.loc[df_trabajo2.iloc[i,0]][2]    \n"
      ]
    },
    {
      "cell_type": "markdown",
      "source": [
        "Comparamos cuántos valores nulos quedaron respecto del dataframe sin imputación para la superficie cubierta"
      ],
      "metadata": {
        "id": "mf1YC8p-Lvmo"
      }
    },
    {
      "cell_type": "code",
      "execution_count": null,
      "metadata": {
        "id": "PF-8FNIE_QfI",
        "colab": {
          "base_uri": "https://localhost:8080/"
        },
        "outputId": "cdc5cfcb-9407-4717-b38f-42f9b4766086"
      },
      "outputs": [
        {
          "output_type": "stream",
          "name": "stdout",
          "text": [
            "False    87656\n",
            "Name: surface_covered_in_m2, dtype: int64\n",
            "False    87656\n",
            "Name: surface_covered_in_m2, dtype: int64\n"
          ]
        }
      ],
      "source": [
        "# comparo cuanto pude mejorar imputando la media para surface_covered_in_m2\n",
        "print(df_trabajo['surface_covered_in_m2'].isnull().value_counts())\n",
        "print(df_trabajo2['surface_covered_in_m2'].isnull().value_counts())"
      ]
    },
    {
      "cell_type": "markdown",
      "source": [
        "Comparamos cuántos valores nulos quedaron respecto del dataframe sin imputación para la superficie total"
      ],
      "metadata": {
        "id": "M4V7pNRnL5HZ"
      }
    },
    {
      "cell_type": "code",
      "execution_count": null,
      "metadata": {
        "id": "gAevcKCe_SXw",
        "colab": {
          "base_uri": "https://localhost:8080/"
        },
        "outputId": "c082e460-08e8-492c-a2d0-994f3ee78374"
      },
      "outputs": [
        {
          "output_type": "stream",
          "name": "stdout",
          "text": [
            "False    63349\n",
            "True     24307\n",
            "Name: surface_total_in_m2, dtype: int64\n",
            "False    87140\n",
            "True       516\n",
            "Name: surface_total_in_m2, dtype: int64\n"
          ]
        }
      ],
      "source": [
        "# comparo cuanto pude mejorar imputando la media para surface_total_in_m2\n",
        "print(df_trabajo['surface_total_in_m2'].isnull().value_counts())\n",
        "print(df_trabajo2['surface_total_in_m2'].isnull().value_counts())"
      ]
    },
    {
      "cell_type": "markdown",
      "source": [
        "Copiamos el dataframe con datos imputados sobre el dataframe de trabajo para continuar con la predicción"
      ],
      "metadata": {
        "id": "4Tu2Yer4MEJf"
      }
    },
    {
      "cell_type": "code",
      "execution_count": null,
      "metadata": {
        "id": "J0ygFRTX_Zq_"
      },
      "outputs": [],
      "source": [
        "# copio el df a df_trabajo\n",
        "df_trabajo = df_trabajo2.copy()"
      ]
    },
    {
      "cell_type": "markdown",
      "source": [
        "Graficamos cómo quedan los datos que vamos a usar para predecir el precio en base a la superficie cubierta"
      ],
      "metadata": {
        "id": "UuTIbe2MMjWM"
      }
    },
    {
      "cell_type": "code",
      "source": [
        "sns.scatterplot(data = df_trabajo, x = \"surface_covered_in_m2\", y = \"price_aprox_usd\")"
      ],
      "metadata": {
        "colab": {
          "base_uri": "https://localhost:8080/",
          "height": 309
        },
        "id": "L-x0F9ORMjyS",
        "outputId": "69d41ded-3161-43c6-d913-0b866d000018"
      },
      "execution_count": null,
      "outputs": [
        {
          "output_type": "execute_result",
          "data": {
            "text/plain": [
              "<matplotlib.axes._subplots.AxesSubplot at 0x7f5cb2ade890>"
            ]
          },
          "metadata": {},
          "execution_count": 228
        },
        {
          "output_type": "display_data",
          "data": {
            "image/png": "[encoded data removed]",
            "text/plain": [
              "<Figure size 432x288 with 1 Axes>"
            ]
          },
          "metadata": {
            "needs_background": "light"
          }
        }
      ]
    },
    {
      "cell_type": "markdown",
      "metadata": {
        "id": "7wxP_xgpl78u"
      },
      "source": [
        "## Generamos el dataframe para el modelo Lineal Simple"
      ]
    },
    {
      "cell_type": "markdown",
      "metadata": {
        "id": "Hep-TJjpmoef"
      },
      "source": [
        "Nos quedamos solo con los registros que tienen valor de *surface_total_in_m2*"
      ]
    },
    {
      "cell_type": "code",
      "execution_count": null,
      "metadata": {
        "id": "puRNlAHYmAv4",
        "colab": {
          "base_uri": "https://localhost:8080/",
          "height": 424
        },
        "outputId": "aaee562d-90b4-4e9e-99eb-c871d6b02be2"
      },
      "outputs": [
        {
          "output_type": "execute_result",
          "data": {
            "text/html": [
              "\n",
              "  <div id=\"df-eea8a0b3-c24e-4102-835a-0bff5361ef0f\">\n",
              "    <div class=\"colab-df-container\">\n",
              "      <div>\n",
              "<style scoped>\n",
              "    .dataframe tbody tr th:only-of-type {\n",
              "        vertical-align: middle;\n",
              "    }\n",
              "\n",
              "    .dataframe tbody tr th {\n",
              "        vertical-align: top;\n",
              "    }\n",
              "\n",
              "    .dataframe thead th {\n",
              "        text-align: right;\n",
              "    }\n",
              "</style>\n",
              "<table border=\"1\" class=\"dataframe\">\n",
              "  <thead>\n",
              "    <tr style=\"text-align: right;\">\n",
              "      <th></th>\n",
              "      <th>surface_covered_in_m2</th>\n",
              "      <th>price_aprox_usd</th>\n",
              "    </tr>\n",
              "  </thead>\n",
              "  <tbody>\n",
              "    <tr>\n",
              "      <th>0</th>\n",
              "      <td>40.0</td>\n",
              "      <td>62000.0</td>\n",
              "    </tr>\n",
              "    <tr>\n",
              "      <th>2</th>\n",
              "      <td>55.0</td>\n",
              "      <td>72000.0</td>\n",
              "    </tr>\n",
              "    <tr>\n",
              "      <th>4</th>\n",
              "      <td>35.0</td>\n",
              "      <td>64000.0</td>\n",
              "    </tr>\n",
              "    <tr>\n",
              "      <th>6</th>\n",
              "      <td>78.0</td>\n",
              "      <td>130000.0</td>\n",
              "    </tr>\n",
              "    <tr>\n",
              "      <th>7</th>\n",
              "      <td>40.0</td>\n",
              "      <td>138000.0</td>\n",
              "    </tr>\n",
              "    <tr>\n",
              "      <th>...</th>\n",
              "      <td>...</td>\n",
              "      <td>...</td>\n",
              "    </tr>\n",
              "    <tr>\n",
              "      <th>121215</th>\n",
              "      <td>93.0</td>\n",
              "      <td>870000.0</td>\n",
              "    </tr>\n",
              "    <tr>\n",
              "      <th>121216</th>\n",
              "      <td>360.0</td>\n",
              "      <td>498000.0</td>\n",
              "    </tr>\n",
              "    <tr>\n",
              "      <th>121217</th>\n",
              "      <td>39.0</td>\n",
              "      <td>131500.0</td>\n",
              "    </tr>\n",
              "    <tr>\n",
              "      <th>121218</th>\n",
              "      <td>48.0</td>\n",
              "      <td>95900.0</td>\n",
              "    </tr>\n",
              "    <tr>\n",
              "      <th>121219</th>\n",
              "      <td>77.0</td>\n",
              "      <td>129000.0</td>\n",
              "    </tr>\n",
              "  </tbody>\n",
              "</table>\n",
              "<p>87656 rows × 2 columns</p>\n",
              "</div>\n",
              "      <button class=\"colab-df-convert\" onclick=\"convertToInteractive('df-eea8a0b3-c24e-4102-835a-0bff5361ef0f')\"\n",
              "              title=\"Convert this dataframe to an interactive table.\"\n",
              "              style=\"display:none;\">\n",
              "        \n",
              "  <svg xmlns=\"http://www.w3.org/2000/svg\" height=\"24px\"viewBox=\"0 0 24 24\"\n",
              "       width=\"24px\">\n",
              "    <path d=\"M0 0h24v24H0V0z\" fill=\"none\"/>\n",
              "    <path d=\"M18.56 5.44l.94 2.06.94-2.06 2.06-.94-2.06-.94-.94-2.06-.94 2.06-2.06.94zm-11 1L8.5 8.5l.94-2.06 2.06-.94-2.06-.94L8.5 2.5l-.94 2.06-2.06.94zm10 10l.94 2.06.94-2.06 2.06-.94-2.06-.94-.94-2.06-.94 2.06-2.06.94z\"/><path d=\"M17.41 7.96l-1.37-1.37c-.4-.4-.92-.59-1.43-.59-.52 0-1.04.2-1.43.59L10.3 9.45l-7.72 7.72c-.78.78-.78 2.05 0 2.83L4 21.41c.39.39.9.59 1.41.59.51 0 1.02-.2 1.41-.59l7.78-7.78 2.81-2.81c.8-.78.8-2.07 0-2.86zM5.41 20L4 18.59l7.72-7.72 1.47 1.35L5.41 20z\"/>\n",
              "  </svg>\n",
              "      </button>\n",
              "      \n",
              "  <style>\n",
              "    .colab-df-container {\n",
              "      display:flex;\n",
              "      flex-wrap:wrap;\n",
              "      gap: 12px;\n",
              "    }\n",
              "\n",
              "    .colab-df-convert {\n",
              "      background-color: #E8F0FE;\n",
              "      border: none;\n",
              "      border-radius: 50%;\n",
              "      cursor: pointer;\n",
              "      display: none;\n",
              "      fill: #1967D2;\n",
              "      height: 32px;\n",
              "      padding: 0 0 0 0;\n",
              "      width: 32px;\n",
              "    }\n",
              "\n",
              "    .colab-df-convert:hover {\n",
              "      background-color: #E2EBFA;\n",
              "      box-shadow: 0px 1px 2px rgba(60, 64, 67, 0.3), 0px 1px 3px 1px rgba(60, 64, 67, 0.15);\n",
              "      fill: #174EA6;\n",
              "    }\n",
              "\n",
              "    [theme=dark] .colab-df-convert {\n",
              "      background-color: #3B4455;\n",
              "      fill: #D2E3FC;\n",
              "    }\n",
              "\n",
              "    [theme=dark] .colab-df-convert:hover {\n",
              "      background-color: #434B5C;\n",
              "      box-shadow: 0px 1px 3px 1px rgba(0, 0, 0, 0.15);\n",
              "      filter: drop-shadow(0px 1px 2px rgba(0, 0, 0, 0.3));\n",
              "      fill: #FFFFFF;\n",
              "    }\n",
              "  </style>\n",
              "\n",
              "      <script>\n",
              "        const buttonEl =\n",
              "          document.querySelector('#df-eea8a0b3-c24e-4102-835a-0bff5361ef0f button.colab-df-convert');\n",
              "        buttonEl.style.display =\n",
              "          google.colab.kernel.accessAllowed ? 'block' : 'none';\n",
              "\n",
              "        async function convertToInteractive(key) {\n",
              "          const element = document.querySelector('#df-eea8a0b3-c24e-4102-835a-0bff5361ef0f');\n",
              "          const dataTable =\n",
              "            await google.colab.kernel.invokeFunction('convertToInteractive',\n",
              "                                                     [key], {});\n",
              "          if (!dataTable) return;\n",
              "\n",
              "          const docLinkHtml = 'Like what you see? Visit the ' +\n",
              "            '<a target=\"_blank\" href=https://colab.research.google.com/notebooks/data_table.ipynb>data table notebook</a>'\n",
              "            + ' to learn more about interactive tables.';\n",
              "          element.innerHTML = '';\n",
              "          dataTable['output_type'] = 'display_data';\n",
              "          await google.colab.output.renderOutput(dataTable, element);\n",
              "          const docLink = document.createElement('div');\n",
              "          docLink.innerHTML = docLinkHtml;\n",
              "          element.appendChild(docLink);\n",
              "        }\n",
              "      </script>\n",
              "    </div>\n",
              "  </div>\n",
              "  "
            ],
            "text/plain": [
              "        surface_covered_in_m2  price_aprox_usd\n",
              "0                        40.0          62000.0\n",
              "2                        55.0          72000.0\n",
              "4                        35.0          64000.0\n",
              "6                        78.0         130000.0\n",
              "7                        40.0         138000.0\n",
              "...                       ...              ...\n",
              "121215                   93.0         870000.0\n",
              "121216                  360.0         498000.0\n",
              "121217                   39.0         131500.0\n",
              "121218                   48.0          95900.0\n",
              "121219                   77.0         129000.0\n",
              "\n",
              "[87656 rows x 2 columns]"
            ]
          },
          "metadata": {},
          "execution_count": 229
        }
      ],
      "source": [
        "df_modelo = df_trabajo2.copy()\n",
        "df_modelo = df_modelo.loc[:,['surface_covered_in_m2','price_aprox_usd']]\n",
        "df_modelo.dropna(axis=0, how='any', inplace=True)\n",
        "df_modelo"
      ]
    },
    {
      "cell_type": "markdown",
      "metadata": {
        "id": "sZ_bMJ_0kWFd"
      },
      "source": [
        "## Ajuste de Modelo Lineal Simple"
      ]
    },
    {
      "cell_type": "markdown",
      "metadata": {
        "id": "fBFVmYXslkwH"
      },
      "source": [
        "Separamos los datos en train y test"
      ]
    },
    {
      "cell_type": "code",
      "execution_count": null,
      "metadata": {
        "id": "FybphT8lokg3"
      },
      "outputs": [],
      "source": [
        "Xtrain, Xtest, ytrain, ytest = train_test_split(df_modelo[['surface_covered_in_m2']], df_modelo.price_aprox_usd, test_size=0.25, random_state=42)"
      ]
    },
    {
      "cell_type": "markdown",
      "metadata": {
        "id": "zmhn5pk9khLf"
      },
      "source": [
        "Ajustamos un modelo Lineal Simple con la variable *surface_covered_in_m2*"
      ]
    },
    {
      "cell_type": "code",
      "execution_count": null,
      "metadata": {
        "id": "BoC6txuqoCQt"
      },
      "outputs": [],
      "source": [
        "model = LinearRegression().fit(Xtrain, ytrain)"
      ]
    },
    {
      "cell_type": "markdown",
      "metadata": {
        "id": "yP8CmdVGt9jY"
      },
      "source": [
        "Observamos los parámetros del modelo ajustado"
      ]
    },
    {
      "cell_type": "code",
      "execution_count": null,
      "metadata": {
        "id": "Gmvai7hPt2xg",
        "colab": {
          "base_uri": "https://localhost:8080/"
        },
        "outputId": "f6b5665f-1726-4456-cae4-ec25cc5023a3"
      },
      "outputs": [
        {
          "output_type": "stream",
          "name": "stdout",
          "text": [
            "Intercepto =   211030.35504755622\n",
            "RM =   284.53123106313615\n"
          ]
        }
      ],
      "source": [
        "print ('Intercepto =', ' ', model.intercept_)\n",
        "print ('RM =', ' ', model.coef_[0])"
      ]
    },
    {
      "cell_type": "markdown",
      "metadata": {
        "id": "wbR1bg4jt4uI"
      },
      "source": [
        "Vemos el R2 del modelo"
      ]
    },
    {
      "cell_type": "code",
      "execution_count": null,
      "metadata": {
        "id": "9bqMJuSstwHY",
        "colab": {
          "base_uri": "https://localhost:8080/"
        },
        "outputId": "8efdf243-4a48-4ef4-9ee5-3834810b9334"
      },
      "outputs": [
        {
          "output_type": "stream",
          "name": "stdout",
          "text": [
            "R2_train=   0.10569194506696744\n"
          ]
        }
      ],
      "source": [
        "print ('R2_train=', ' ', model.score(Xtrain, ytrain))"
      ]
    },
    {
      "cell_type": "markdown",
      "metadata": {
        "id": "eRaJfT9ktg4G"
      },
      "source": [
        "Guardamos  las predicciones para train y test"
      ]
    },
    {
      "cell_type": "code",
      "execution_count": null,
      "metadata": {
        "id": "tisqRX4Zte0n"
      },
      "outputs": [],
      "source": [
        "predictionsTrain = model.predict(Xtrain)\n",
        "predictionsTest = model.predict(Xtest)"
      ]
    },
    {
      "cell_type": "markdown",
      "metadata": {
        "id": "YfP-mfYpvYbq"
      },
      "source": [
        "Calculamos el Mean Squared Error (MSE)"
      ]
    },
    {
      "cell_type": "code",
      "execution_count": null,
      "metadata": {
        "id": "lPFP7SQevNC5",
        "colab": {
          "base_uri": "https://localhost:8080/"
        },
        "outputId": "211a4d48-055b-4bc3-fb3b-aa6b7a513a21"
      },
      "outputs": [
        {
          "output_type": "stream",
          "name": "stdout",
          "text": [
            "MSE Train: 93955098071.77199\n",
            "MSE Test: 98932912755.63805\n"
          ]
        }
      ],
      "source": [
        "print(\"MSE Train:\", mean_squared_error(y_true=ytrain, y_pred=predictionsTrain))\n",
        "print(\"MSE Test:\", mean_squared_error(y_true=ytest, y_pred=predictionsTest))"
      ]
    },
    {
      "cell_type": "markdown",
      "metadata": {
        "id": "KqdQi8WYvygM"
      },
      "source": [
        "Calculamos el Mean Absolute Error (MAE)"
      ]
    },
    {
      "cell_type": "code",
      "execution_count": null,
      "metadata": {
        "id": "56s0p5kUvxa2",
        "colab": {
          "base_uri": "https://localhost:8080/"
        },
        "outputId": "b03f7995-1186-437f-e42c-647ce7d00da1"
      },
      "outputs": [
        {
          "output_type": "stream",
          "name": "stdout",
          "text": [
            "MAE Train: 157504.84997986836\n",
            "MAE Test: 155012.9836087459\n"
          ]
        }
      ],
      "source": [
        "print(\"MAE Train:\", mean_absolute_error(y_true=ytrain, y_pred=predictionsTrain))\n",
        "print(\"MAE Test:\", mean_absolute_error(y_true=ytest, y_pred=predictionsTest))"
      ]
    },
    {
      "cell_type": "markdown",
      "source": [
        "Graficamos la recta obtenida"
      ],
      "metadata": {
        "id": "IIcrrLNyjKVQ"
      }
    },
    {
      "cell_type": "code",
      "source": [
        "i=model.intercept_  # intercept\n",
        "s=model.coef_[0]    # slope\n",
        "x=np.linspace(0,49000,5000)\n",
        "plt.plot(x, s*x + i)\n",
        "plt.xlabel(\"Superficie cubierta\")\n",
        "plt.ylabel(\"Precio en USD\")\n",
        "plt.show()"
      ],
      "metadata": {
        "colab": {
          "base_uri": "https://localhost:8080/",
          "height": 290
        },
        "id": "InWqsKN9jJ9_",
        "outputId": "bcc8c296-8cec-4d5e-c7d0-0612ba596a86"
      },
      "execution_count": null,
      "outputs": [
        {
          "output_type": "display_data",
          "data": {
            "image/png": "[encoded data removed]",
            "text/plain": [
              "<Figure size 432x288 with 1 Axes>"
            ]
          },
          "metadata": {
            "needs_background": "light"
          }
        }
      ]
    },
    {
      "cell_type": "markdown",
      "metadata": {
        "id": "3G6ZdEm2uSNq"
      },
      "source": [
        "Otra manera de ajustar el modelo"
      ]
    },
    {
      "cell_type": "code",
      "execution_count": null,
      "metadata": {
        "id": "LxidwKPakVlO",
        "colab": {
          "base_uri": "https://localhost:8080/"
        },
        "outputId": "ea29c09c-5972-43b5-dc2e-198595f7e796"
      },
      "outputs": [
        {
          "output_type": "stream",
          "name": "stdout",
          "text": [
            "                            OLS Regression Results                            \n",
            "==============================================================================\n",
            "Dep. Variable:        price_aprox_usd   R-squared:                       0.106\n",
            "Model:                            OLS   Adj. R-squared:                  0.106\n",
            "Method:                 Least Squares   F-statistic:                     7769.\n",
            "Date:                Thu, 20 Jan 2022   Prob (F-statistic):               0.00\n",
            "Time:                        21:33:02   Log-Likelihood:            -9.2381e+05\n",
            "No. Observations:               65742   AIC:                         1.848e+06\n",
            "Df Residuals:                   65740   BIC:                         1.848e+06\n",
            "Df Model:                           1                                         \n",
            "Covariance Type:            nonrobust                                         \n",
            "=========================================================================================\n",
            "                            coef    std err          t      P>|t|      [0.025      0.975]\n",
            "-----------------------------------------------------------------------------------------\n",
            "const                   2.11e+05   1263.651    167.000      0.000    2.09e+05    2.14e+05\n",
            "surface_covered_in_m2   284.5312      3.228     88.144      0.000     278.204     290.858\n",
            "==============================================================================\n",
            "Omnibus:                    66536.084   Durbin-Watson:                   1.985\n",
            "Prob(Omnibus):                  0.000   Jarque-Bera (JB):         65439622.414\n",
            "Skew:                           4.045   Prob(JB):                         0.00\n",
            "Kurtosis:                     157.351   Cond. No.                         414.\n",
            "==============================================================================\n",
            "\n",
            "Warnings:\n",
            "[1] Standard Errors assume that the covariance matrix of the errors is correctly specified.\n"
          ]
        }
      ],
      "source": [
        "x_model = sm.add_constant(Xtrain)\n",
        "model_2 = sm.OLS(ytrain, x_model).fit()\n",
        "print(model_2.summary())"
      ]
    },
    {
      "cell_type": "markdown",
      "metadata": {
        "id": "d_xN9BiRyOco"
      },
      "source": [
        "## Generamos el dataframe para el modelo Lineal Múltiple"
      ]
    },
    {
      "cell_type": "markdown",
      "source": [
        "Para este nuevo modelo consideraremos como variables regresoras a la superficie total, superficie cubierta y tipo de propiedad.\n",
        "\n",
        "Al tipo de propiedad lo pasamos a variables dummies.\n",
        "\n",
        "Solo consideramos registros que no tengan datos nulos."
      ],
      "metadata": {
        "id": "lVhh3ZLUgxJ6"
      }
    },
    {
      "cell_type": "code",
      "execution_count": null,
      "metadata": {
        "id": "mINx3Z4_xjnC",
        "colab": {
          "base_uri": "https://localhost:8080/"
        },
        "outputId": "15e891cf-1545-4ef7-b685-b776f09a1cf7"
      },
      "outputs": [
        {
          "output_type": "execute_result",
          "data": {
            "text/html": [
              "\n",
              "  <div id=\"df-b9717fe8-3df7-49a9-a68c-47f04cd269eb\">\n",
              "    <div class=\"colab-df-container\">\n",
              "      <div>\n",
              "<style scoped>\n",
              "    .dataframe tbody tr th:only-of-type {\n",
              "        vertical-align: middle;\n",
              "    }\n",
              "\n",
              "    .dataframe tbody tr th {\n",
              "        vertical-align: top;\n",
              "    }\n",
              "\n",
              "    .dataframe thead th {\n",
              "        text-align: right;\n",
              "    }\n",
              "</style>\n",
              "<table border=\"1\" class=\"dataframe\">\n",
              "  <thead>\n",
              "    <tr style=\"text-align: right;\">\n",
              "      <th></th>\n",
              "      <th>price_aprox_usd</th>\n",
              "      <th>surface_total_in_m2</th>\n",
              "      <th>surface_covered_in_m2</th>\n",
              "      <th>property_type_cat_apartment</th>\n",
              "      <th>property_type_cat_house</th>\n",
              "      <th>property_type_cat_store</th>\n",
              "    </tr>\n",
              "  </thead>\n",
              "  <tbody>\n",
              "    <tr>\n",
              "      <th>0</th>\n",
              "      <td>62000.0</td>\n",
              "      <td>55.0</td>\n",
              "      <td>40.0</td>\n",
              "      <td>0</td>\n",
              "      <td>0</td>\n",
              "      <td>0</td>\n",
              "    </tr>\n",
              "    <tr>\n",
              "      <th>2</th>\n",
              "      <td>72000.0</td>\n",
              "      <td>55.0</td>\n",
              "      <td>55.0</td>\n",
              "      <td>1</td>\n",
              "      <td>0</td>\n",
              "      <td>0</td>\n",
              "    </tr>\n",
              "    <tr>\n",
              "      <th>4</th>\n",
              "      <td>64000.0</td>\n",
              "      <td>35.0</td>\n",
              "      <td>35.0</td>\n",
              "      <td>1</td>\n",
              "      <td>0</td>\n",
              "      <td>0</td>\n",
              "    </tr>\n",
              "    <tr>\n",
              "      <th>6</th>\n",
              "      <td>130000.0</td>\n",
              "      <td>106.0</td>\n",
              "      <td>78.0</td>\n",
              "      <td>0</td>\n",
              "      <td>0</td>\n",
              "      <td>0</td>\n",
              "    </tr>\n",
              "    <tr>\n",
              "      <th>7</th>\n",
              "      <td>138000.0</td>\n",
              "      <td>45.0</td>\n",
              "      <td>40.0</td>\n",
              "      <td>1</td>\n",
              "      <td>0</td>\n",
              "      <td>0</td>\n",
              "    </tr>\n",
              "    <tr>\n",
              "      <th>...</th>\n",
              "      <td>...</td>\n",
              "      <td>...</td>\n",
              "      <td>...</td>\n",
              "      <td>...</td>\n",
              "      <td>...</td>\n",
              "      <td>...</td>\n",
              "    </tr>\n",
              "    <tr>\n",
              "      <th>121215</th>\n",
              "      <td>870000.0</td>\n",
              "      <td>113.0</td>\n",
              "      <td>93.0</td>\n",
              "      <td>1</td>\n",
              "      <td>0</td>\n",
              "      <td>0</td>\n",
              "    </tr>\n",
              "    <tr>\n",
              "      <th>121216</th>\n",
              "      <td>498000.0</td>\n",
              "      <td>360.0</td>\n",
              "      <td>360.0</td>\n",
              "      <td>0</td>\n",
              "      <td>1</td>\n",
              "      <td>0</td>\n",
              "    </tr>\n",
              "    <tr>\n",
              "      <th>121217</th>\n",
              "      <td>131500.0</td>\n",
              "      <td>46.0</td>\n",
              "      <td>39.0</td>\n",
              "      <td>1</td>\n",
              "      <td>0</td>\n",
              "      <td>0</td>\n",
              "    </tr>\n",
              "    <tr>\n",
              "      <th>121218</th>\n",
              "      <td>95900.0</td>\n",
              "      <td>48.0</td>\n",
              "      <td>48.0</td>\n",
              "      <td>1</td>\n",
              "      <td>0</td>\n",
              "      <td>0</td>\n",
              "    </tr>\n",
              "    <tr>\n",
              "      <th>121219</th>\n",
              "      <td>129000.0</td>\n",
              "      <td>77.0</td>\n",
              "      <td>77.0</td>\n",
              "      <td>1</td>\n",
              "      <td>0</td>\n",
              "      <td>0</td>\n",
              "    </tr>\n",
              "  </tbody>\n",
              "</table>\n",
              "<p>87140 rows × 6 columns</p>\n",
              "</div>\n",
              "      <button class=\"colab-df-convert\" onclick=\"convertToInteractive('df-b9717fe8-3df7-49a9-a68c-47f04cd269eb')\"\n",
              "              title=\"Convert this dataframe to an interactive table.\"\n",
              "              style=\"display:none;\">\n",
              "        \n",
              "  <svg xmlns=\"http://www.w3.org/2000/svg\" height=\"24px\"viewBox=\"0 0 24 24\"\n",
              "       width=\"24px\">\n",
              "    <path d=\"M0 0h24v24H0V0z\" fill=\"none\"/>\n",
              "    <path d=\"M18.56 5.44l.94 2.06.94-2.06 2.06-.94-2.06-.94-.94-2.06-.94 2.06-2.06.94zm-11 1L8.5 8.5l.94-2.06 2.06-.94-2.06-.94L8.5 2.5l-.94 2.06-2.06.94zm10 10l.94 2.06.94-2.06 2.06-.94-2.06-.94-.94-2.06-.94 2.06-2.06.94z\"/><path d=\"M17.41 7.96l-1.37-1.37c-.4-.4-.92-.59-1.43-.59-.52 0-1.04.2-1.43.59L10.3 9.45l-7.72 7.72c-.78.78-.78 2.05 0 2.83L4 21.41c.39.39.9.59 1.41.59.51 0 1.02-.2 1.41-.59l7.78-7.78 2.81-2.81c.8-.78.8-2.07 0-2.86zM5.41 20L4 18.59l7.72-7.72 1.47 1.35L5.41 20z\"/>\n",
              "  </svg>\n",
              "      </button>\n",
              "      \n",
              "  <style>\n",
              "    .colab-df-container {\n",
              "      display:flex;\n",
              "      flex-wrap:wrap;\n",
              "      gap: 12px;\n",
              "    }\n",
              "\n",
              "    .colab-df-convert {\n",
              "      background-color: #E8F0FE;\n",
              "      border: none;\n",
              "      border-radius: 50%;\n",
              "      cursor: pointer;\n",
              "      display: none;\n",
              "      fill: #1967D2;\n",
              "      height: 32px;\n",
              "      padding: 0 0 0 0;\n",
              "      width: 32px;\n",
              "    }\n",
              "\n",
              "    .colab-df-convert:hover {\n",
              "      background-color: #E2EBFA;\n",
              "      box-shadow: 0px 1px 2px rgba(60, 64, 67, 0.3), 0px 1px 3px 1px rgba(60, 64, 67, 0.15);\n",
              "      fill: #174EA6;\n",
              "    }\n",
              "\n",
              "    [theme=dark] .colab-df-convert {\n",
              "      background-color: #3B4455;\n",
              "      fill: #D2E3FC;\n",
              "    }\n",
              "\n",
              "    [theme=dark] .colab-df-convert:hover {\n",
              "      background-color: #434B5C;\n",
              "      box-shadow: 0px 1px 3px 1px rgba(0, 0, 0, 0.15);\n",
              "      filter: drop-shadow(0px 1px 2px rgba(0, 0, 0, 0.3));\n",
              "      fill: #FFFFFF;\n",
              "    }\n",
              "  </style>\n",
              "\n",
              "      <script>\n",
              "        const buttonEl =\n",
              "          document.querySelector('#df-b9717fe8-3df7-49a9-a68c-47f04cd269eb button.colab-df-convert');\n",
              "        buttonEl.style.display =\n",
              "          google.colab.kernel.accessAllowed ? 'block' : 'none';\n",
              "\n",
              "        async function convertToInteractive(key) {\n",
              "          const element = document.querySelector('#df-b9717fe8-3df7-49a9-a68c-47f04cd269eb');\n",
              "          const dataTable =\n",
              "            await google.colab.kernel.invokeFunction('convertToInteractive',\n",
              "                                                     [key], {});\n",
              "          if (!dataTable) return;\n",
              "\n",
              "          const docLinkHtml = 'Like what you see? Visit the ' +\n",
              "            '<a target=\"_blank\" href=https://colab.research.google.com/notebooks/data_table.ipynb>data table notebook</a>'\n",
              "            + ' to learn more about interactive tables.';\n",
              "          element.innerHTML = '';\n",
              "          dataTable['output_type'] = 'display_data';\n",
              "          await google.colab.output.renderOutput(dataTable, element);\n",
              "          const docLink = document.createElement('div');\n",
              "          docLink.innerHTML = docLinkHtml;\n",
              "          element.appendChild(docLink);\n",
              "        }\n",
              "      </script>\n",
              "    </div>\n",
              "  </div>\n",
              "  "
            ],
            "text/plain": [
              "        price_aprox_usd  ...  property_type_cat_store\n",
              "0               62000.0  ...                        0\n",
              "2               72000.0  ...                        0\n",
              "4               64000.0  ...                        0\n",
              "6              130000.0  ...                        0\n",
              "7              138000.0  ...                        0\n",
              "...                 ...  ...                      ...\n",
              "121215         870000.0  ...                        0\n",
              "121216         498000.0  ...                        0\n",
              "121217         131500.0  ...                        0\n",
              "121218          95900.0  ...                        0\n",
              "121219         129000.0  ...                        0\n",
              "\n",
              "[87140 rows x 6 columns]"
            ]
          },
          "metadata": {},
          "execution_count": 239
        }
      ],
      "source": [
        "df_multiple = df_trabajo2.copy()\n",
        "df_multiple = df_multiple[['property_type','price_aprox_usd','surface_total_in_m2','surface_covered_in_m2']]\n",
        "df_multiple.dropna(axis=0, how='any', inplace=True)\n",
        "property_type_categories = pd.get_dummies(df_multiple.property_type, drop_first = True, prefix = 'property_type_cat')\n",
        "df_multiple = df_multiple.join(property_type_categories)\n",
        "df_multiple.drop(columns=['property_type'], inplace=True)\n",
        "df_multiple"
      ]
    },
    {
      "cell_type": "markdown",
      "metadata": {
        "id": "h2tgaPZRxQbP"
      },
      "source": [
        "## Ajuste de Modelo Lineal Múltiple"
      ]
    },
    {
      "cell_type": "markdown",
      "metadata": {
        "id": "jVkhszgWyqXc"
      },
      "source": [
        "Separamos los datos en train y test"
      ]
    },
    {
      "cell_type": "code",
      "execution_count": null,
      "metadata": {
        "id": "5XH4tUxhxUSi"
      },
      "outputs": [],
      "source": [
        "data_m = df_multiple[['surface_total_in_m2', 'surface_covered_in_m2', 'property_type_cat_apartment', 'property_type_cat_house', 'property_type_cat_store']]\n",
        "Xtrain_m, Xtest_m, ytrain_m, ytest_m = train_test_split(data_m, df_multiple.price_aprox_usd, test_size=0.25, random_state=42)"
      ]
    },
    {
      "cell_type": "markdown",
      "metadata": {
        "id": "K17kq-UdytZN"
      },
      "source": [
        "Ajustamos un modelo Lineal Múltiple con las variables *surface_total_in_m2*, *property_type* y *surface_covered_in_m2*"
      ]
    },
    {
      "cell_type": "code",
      "execution_count": null,
      "metadata": {
        "id": "NskxHMvxy5ic"
      },
      "outputs": [],
      "source": [
        "model_m = LinearRegression().fit(Xtrain_m, ytrain_m)"
      ]
    },
    {
      "cell_type": "markdown",
      "metadata": {
        "id": "O28l8wHezNAf"
      },
      "source": [
        "Observamos los parámetros del modelo ajustado"
      ]
    },
    {
      "cell_type": "code",
      "execution_count": null,
      "metadata": {
        "id": "fGJFt6GNzKx5",
        "colab": {
          "base_uri": "https://localhost:8080/"
        },
        "outputId": "d374fbd6-8030-44e0-90af-e269fae7b781"
      },
      "outputs": [
        {
          "output_type": "stream",
          "name": "stdout",
          "text": [
            "Intercepto =   129503.42245312389\n",
            "RM =   [1.24022593e+01 2.25941055e+02 4.56745769e+04 1.56107460e+05\n",
            " 2.57304477e+05]\n"
          ]
        }
      ],
      "source": [
        "print ('Intercepto =', ' ', model_m.intercept_)\n",
        "print ('RM =', ' ', model_m.coef_)"
      ]
    },
    {
      "cell_type": "markdown",
      "metadata": {
        "id": "4s4bpuglzP2a"
      },
      "source": [
        "Vemos el R2 del modelo"
      ]
    },
    {
      "cell_type": "code",
      "execution_count": null,
      "metadata": {
        "id": "KPOf7TmnzVrj",
        "colab": {
          "base_uri": "https://localhost:8080/"
        },
        "outputId": "f3152839-f353-408e-b7e3-a69e38d8e43a"
      },
      "outputs": [
        {
          "output_type": "stream",
          "name": "stdout",
          "text": [
            "R2_train=   0.13594266163995317\n"
          ]
        }
      ],
      "source": [
        "print ('R2_train=', ' ', model_m.score(Xtrain_m, ytrain_m))"
      ]
    },
    {
      "cell_type": "markdown",
      "metadata": {
        "id": "0R-wrBVIzhi1"
      },
      "source": [
        "Guardamos las predicciones para train y test"
      ]
    },
    {
      "cell_type": "code",
      "execution_count": null,
      "metadata": {
        "id": "vhMrwrh9zfTl"
      },
      "outputs": [],
      "source": [
        "predictionsTrain_m = model_m.predict(Xtrain_m)\n",
        "predictionsTest_m = model_m.predict(Xtest_m)"
      ]
    },
    {
      "cell_type": "markdown",
      "metadata": {
        "id": "Uu2MXby9zr9I"
      },
      "source": [
        "Calculamos el Mean Squared Error (MSE)"
      ]
    },
    {
      "cell_type": "code",
      "execution_count": null,
      "metadata": {
        "id": "jnoDCrBszrfP",
        "colab": {
          "base_uri": "https://localhost:8080/"
        },
        "outputId": "401f2cde-2b8e-4919-eff1-84bc8996128d"
      },
      "outputs": [
        {
          "output_type": "stream",
          "name": "stdout",
          "text": [
            "MSE Train: 90772309290.57446\n",
            "MSE Test: 92236993169.28192\n"
          ]
        }
      ],
      "source": [
        "print(\"MSE Train:\", mean_squared_error(y_true=ytrain_m, y_pred=predictionsTrain_m))\n",
        "print(\"MSE Test:\", mean_squared_error(y_true=ytest_m, y_pred=predictionsTest_m))"
      ]
    },
    {
      "cell_type": "markdown",
      "metadata": {
        "id": "evO3JH9jzsVI"
      },
      "source": [
        "Calculamos el Mean Absolute Error (MAE)"
      ]
    },
    {
      "cell_type": "code",
      "execution_count": null,
      "metadata": {
        "id": "uLiDztshzsng",
        "colab": {
          "base_uri": "https://localhost:8080/"
        },
        "outputId": "53f1bff6-467b-4466-883f-840963297b1f"
      },
      "outputs": [
        {
          "output_type": "stream",
          "name": "stdout",
          "text": [
            "MAE Train: 149654.9772752175\n",
            "MAE Test: 149158.00603498783\n"
          ]
        }
      ],
      "source": [
        "print(\"MAE Train:\", mean_absolute_error(y_true=ytrain_m, y_pred=predictionsTrain_m))\n",
        "print(\"MAE Test:\", mean_absolute_error(y_true=ytest_m, y_pred=predictionsTest_m))"
      ]
    }
  ],
  "metadata": {
    "colab": {
      "collapsed_sections": [
        "r2IAXqyj52nI",
        "bwpB_jPTj0P7",
        "Jzm2jqTmeIOj",
        "wCbgniy6-H13",
        "7wxP_xgpl78u",
        "d_xN9BiRyOco",
        "h2tgaPZRxQbP"
      ],
      "name": "TP Digital House.ipynb",
      "provenance": []
    },
    "kernelspec": {
      "display_name": "Python 3",
      "name": "python3"
    },
    "language_info": {
      "name": "python"
    }
  },
  "nbformat": 4,
  "nbformat_minor": 0
}